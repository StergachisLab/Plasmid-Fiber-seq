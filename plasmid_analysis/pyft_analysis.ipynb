{
 "cells": [
  {
   "cell_type": "code",
   "execution_count": 66,
   "metadata": {},
   "outputs": [],
   "source": [
    "import pyft\n",
    "import tqdm\n",
    "import matplotlib.pyplot as plt\n",
    "import itertools\n",
    "import statistics\n",
    "from statistics import mean, median, mode\n",
    "import seaborn as sns\n",
    "from scipy.stats import gaussian_kde\n",
    "import numpy as np\n",
    "from matplotlib.lines import Line2D\n",
    "from matplotlib.ticker import StrMethodFormatter, PercentFormatter, MaxNLocator, FuncFormatter\n",
    "import pysam\n",
    "import os"
   ]
  },
  {
   "cell_type": "markdown",
   "metadata": {},
   "source": [
    "### Import data"
   ]
  },
  {
   "cell_type": "code",
   "execution_count": 2,
   "metadata": {},
   "outputs": [],
   "source": [
    "# Definte replicate and samples\n",
    "replicate = 'rep_2'\n",
    "sample_1 = 'pEF_GFP_Gus'\n",
    "#sample_2 = 'multi_cell_mix'\n",
    "\n",
    "# pEF-GFP + Gus_WT + Gus_Mut\n",
    "\n",
    "# Plasmid BAMs\n",
    "bam_1 = '/gscratch/stergachislab/bmallo/large_home/ft_data/{}/{}/full_length_bams/pEF-GFP/{}_pEF-GFP.bam'.format(sample_1, replicate, replicate)\n",
    "bam_2 = '/gscratch/stergachislab/bmallo/large_home/ft_data/{}/{}/full_length_bams/Gus_WT/{}_Gus_WT.bam'.format(sample_1, replicate, replicate)\n",
    "bam_3 = '/gscratch/stergachislab/bmallo/large_home/ft_data/{}/{}/full_length_bams/Gus_Mut/{}_Gus_Mut.bam'.format(sample_1, replicate, replicate)\n",
    "\n",
    "# Genomic BAMs\n",
    "bam_g = '/gscratch/stergachislab/bmallo/large_home/ft_data/{}/{}/genomic_bams/{}_all_genomic.bam'.format(sample_1, replicate, replicate)\n",
    "\n",
    "# setup bam file as fiberbam object\n",
    "pEF_GFP = pyft.Fiberbam(bam_1)\n",
    "Gus_WT = pyft.Fiberbam(bam_2)\n",
    "Gus_Mut = pyft.Fiberbam(bam_3)\n",
    "GFP_Gus_genomic = pyft.Fiberbam(bam_g)\n",
    "\n",
    "# multi_cell_mix\n",
    "\n",
    "## Plasmid BAMs\n",
    "# bam_4 = '/gscratch/stergachislab/bmallo/large_home/ft_data/{}/{}/full_length_bams/HepG2/{}_HepG2.bam'.format(sample_2, replicate, replicate) # HepG2\n",
    "# bam_5 = '/gscratch/stergachislab/bmallo/large_home/ft_data/{}/{}/full_length_bams/Hek293/{}_Hek293.bam'.format(sample_2, replicate, replicate) # Hek293\n",
    "# bam_6 = '/gscratch/stergachislab/bmallo/large_home/ft_data/{}/{}/full_length_bams/A375/{}_A375.bam'.format(sample_2, replicate, replicate) # A375\n",
    "# bam_7 = '/gscratch/stergachislab/bmallo/large_home/ft_data/{}/{}/full_length_bams/K562/{}_K562.bam'.format(sample_2, replicate, replicate) # K562\n",
    "# bam_8 = '/gscratch/stergachislab/bmallo/large_home/ft_data/{}/{}/full_length_bams/HAP1/{}_HAP1.bam'.format(sample_2, replicate, replicate) # HAP1\n",
    "\n",
    "## Genomic BAMs\n",
    "# bam_9 = '/gscratch/stergachislab/bmallo/large_home/ft_data/{}/{}/genomic_bams/{}_all_genomic.bam'.format(sample_2, replicate, replicate)\n",
    "\n",
    "## setup bam file as fiberbam object\n",
    "# HepG2 = pyft.Fiberbam(bam_4)\n",
    "# Hek293 = pyft.Fiberbam(bam_5)\n",
    "# A375 = pyft.Fiberbam(bam_6)\n",
    "# K562 = pyft.Fiberbam(bam_7)\n",
    "# HAP1 = pyft.Fiberbam(bam_8)\n",
    "# multi_cell_genomic = pyft.Fiberbam(bam_9)"
   ]
  },
  {
   "cell_type": "markdown",
   "metadata": {},
   "source": [
    "### Helper Functions"
   ]
  },
  {
   "cell_type": "code",
   "execution_count": 3,
   "metadata": {},
   "outputs": [],
   "source": [
    "# function for generating a list of all nucleosome lengths from reads aligning to specified plasmid/chromosome\n",
    "# If chromosome is not specified, function will get nucleosomes for all reads in the sample\n",
    "def get_nuc_lengths(sample_name, chromosome=None):\n",
    "    # Set sample and chromosome you want to analyze\n",
    "    sample = sample_name\n",
    "\n",
    "    # If chromosome is not specified, consider reads aligning to any chromosome\n",
    "    if chromosome is None:\n",
    "        chromosomes_to_analyze = sample.chrom()\n",
    "    else:\n",
    "        chromosomes_to_analyze = [chromosome]\n",
    "\n",
    "    # Generate a list of all nucleosome lengths from reads aligning to specified chromosome(s)\n",
    "    nuc_length = list(\n",
    "        itertools.chain.from_iterable([nuc for nuc in fiber.nuc.lengths] for fiber in tqdm.tqdm(sample.fetch(chrom)))\n",
    "        for chrom in chromosomes_to_analyze\n",
    "    )\n",
    "\n",
    "    # Print results\n",
    "    print(f'nuc_count = {len(nuc_length)}, values = {nuc_length[1:10]}, mean = {mean(nuc_length)}, median = {median(nuc_length)}, mode = {mode(nuc_length)}')\n",
    "\n",
    "    # Return list of nucleosome lengths\n",
    "    return nuc_length"
   ]
  },
  {
   "cell_type": "code",
   "execution_count": 4,
   "metadata": {},
   "outputs": [],
   "source": [
    "# function to plot histogram of nucleosome lengths\n",
    "def plot_nucleosome_lengths(sample, title, x_label='Nucleosome Length', y_label='Number of Nucleosomes'):\n",
    "    # Plot the nucleosome length distribution\n",
    "    nuc_hist = plt.hist(sample, bins=1000, range=(0, 1000), color='teal')\n",
    "\n",
    "    # Add labels to the plot\n",
    "    plt.xlabel(x_label, fontsize=11, fontweight='bold')\n",
    "    plt.ylabel(y_label, fontsize=11, fontweight='bold')\n",
    "    plt.title(title, fontsize=14, fontweight='bold')\n",
    "\n",
    "    # Calculate the mean and mode\n",
    "    mean_length = mean(sample)\n",
    "    median_length = median(sample)\n",
    "    mode_length = mode(sample)\n",
    "\n",
    "    # Plot mean and mode as text annotations\n",
    "    plt.text(0.62, 0.9, f'Mean = {mean_length:.2f} bp', color='darkgreen', fontsize=12, fontweight='bold', transform=plt.gca().transAxes)\n",
    "    plt.text(0.62, 0.8, f'Median = {median_length:.2f} bp', color='purple', fontsize=12, fontweight='bold', transform=plt.gca().transAxes)\n",
    "    plt.text(0.62, 0.7, f'Mode = {mode_length:.2f} bp', color='red', fontsize=12, fontweight='bold', transform=plt.gca().transAxes)\n",
    "\n",
    "    # Show the plot\n",
    "    plt.show()\n",
    "\n",
    "#plt.savefig('/gscratch/stergachislab/bmallo/large_home/ft_data/plasmid_mix_71923/plasmid_mix_unfrozen/genomic_reads/figures/chr2_nuc_lengths.png', dpi=300, bbox_inches='tight')"
   ]
  },
  {
   "cell_type": "code",
   "execution_count": 5,
   "metadata": {},
   "outputs": [],
   "source": [
    "# function for generating nucleosomes per read (NPR) lists\n",
    "def get_npr(sample, chrom, min_length, max_length):\n",
    "    NPR_list = [len([nuc for nuc in fiber.nuc.lengths]) for fiber in sample.fetch(chrom) if min_length <= fiber.get_seq_length() <= max_length]\n",
    "    print(f'Number of reads: {len(NPR_list)}, mean = {mean(NPR_list)}, mode = {mode(NPR_list)}')\n",
    "    return NPR_list"
   ]
  },
  {
   "cell_type": "code",
   "execution_count": 32,
   "metadata": {},
   "outputs": [],
   "source": [
    "# Function to format y-axis ticks by multiplying by 100\n",
    "def y_format(x, pos):\n",
    "    return f'{x * 100:.0f}%'\n",
    "\n",
    "# Function to plot npr histograms\n",
    "# data_list = npr list, threshold = minimum nucleosome count to include in histogram\n",
    "def filtered_histogram(data_list, label_list, color_list, threshold=None, replicate=None):\n",
    "    # Filter data based on the threshold\n",
    "    if threshold is not None:\n",
    "        data_list = [list(filter(lambda x: x > threshold, data)) for data in data_list]\n",
    "\n",
    "    # Create the histogram for all datasets\n",
    "    n, bins, patches = plt.hist(data_list, bins=max(max(data) for data in data_list) - 5, color=color_list, label=label_list, density=True, histtype='step', linewidth=1.5)\n",
    "\n",
    "    # Apply custom y-axis formatting\n",
    "    plt.gca().yaxis.set_major_formatter(plt.FuncFormatter(y_format))\n",
    "\n",
    "    # Create custom legend handles with colored lines\n",
    "    legend_handles = [Line2D([0], [0], color=color, lw=2) for color in color_list]\n",
    "\n",
    "    plt.legend(legend_handles, label_list)\n",
    "\n",
    "    # Calculate the mean and mode\n",
    "    mean_npr = mean([item for sublist in data_list for item in sublist])\n",
    "    median_npr = median([item for sublist in data_list for item in sublist])\n",
    "    mode_npr = mode([item for sublist in data_list for item in sublist])\n",
    "\n",
    "\n",
    "    # Plot mean and mode as text annotations\n",
    "    plt.text(0.62, 0.9, f'Mean = {mean_npr:.2f} bp', color='darkgreen', fontsize=12, fontweight='bold', transform=plt.gca().transAxes)\n",
    "    plt.text(0.62, 0.8, f'Median = {median_npr:.2f} bp', color='purple', fontsize=12, fontweight='bold', transform=plt.gca().transAxes)\n",
    "    plt.text(0.62, 0.7, f'Mode = {mode_npr:.2f} bp', color='red', fontsize=12, fontweight='bold', transform=plt.gca().transAxes)\n",
    "\n",
    "    # Add labels and title\n",
    "    plt.xlabel('Nucleosomes per Read')\n",
    "    plt.ylabel('Percent of Reads')\n",
    "    plt.title('Nucleosomes per Read ({})'.format(replicate))\n",
    "    #plt.savefig('/gscratch/stergachislab/bmallo/large_home/ft_data/multi_cell_mix/rep_3/Figures/5+_nucs_per_read.jpg', dpi=300)"
   ]
  },
  {
   "cell_type": "code",
   "execution_count": null,
   "metadata": {},
   "outputs": [],
   "source": [
    "# Function to plot density plots with x values greater than 5\n",
    "def plot_density_greater_than_5(data, label, color):\n",
    "    filtered_data = [x for x in data if x > 0]  # Filter data greater than 0\n",
    "    sns.kdeplot(filtered_data, color=color, label=label, linewidth=1.5)\n",
    "\n",
    "colors = ['#1f77b4', '#ff7f0e', '#2ca02c', '#d62728', '#9467bd']\n",
    "data = [HepG2_count, Hek293_count, A375_count, K562_count, HAP1_count]\n",
    "labels = ['HepG2_count', 'Hek293_count', 'A375_count', 'K562_count', 'HAP1_count']\n",
    "\n",
    "for i in range(len(data)):\n",
    "    plot_density_greater_than_5(data[i], labels[i], colors[i])\n",
    "\n",
    "plt.xlabel('Number of Nucleosomes')  # Replace with your desired label\n",
    "plt.ylabel('Percentage of Reads')  # Replace with your desired label\n",
    "plt.title('Nucleosomes per Read Across Cell Types (Rep. 2)')  # Replace with your desired title\n",
    "\n",
    "plt.legend()\n",
    "\n",
    "# Function to format y-axis ticks by multiplying by 100\n",
    "def y_format(x, pos):\n",
    "    return f'{x * 100:.0f}%'\n",
    "\n",
    "plt.gca().yaxis.set_major_formatter(plt.FuncFormatter(y_format))\n",
    "plt.savefig('/gscratch/stergachislab/bmallo/large_home/ft_data/multi_cell_mix/rep_2/Figures/downsampled_nucleosomes_per_read.jpg', dpi=300)\n",
    "#plt.show()\n",
    "\n"
   ]
  },
  {
   "cell_type": "code",
   "execution_count": 8,
   "metadata": {},
   "outputs": [],
   "source": [
    "# Function for generating base pairs per nucleosome (BPN) list\n",
    "def get_BPN(sample, chrom, min_length, max_length):\n",
    "    BPN_list = [round(fiber.get_seq_length() / (len([nuc for nuc in fiber.nuc.lengths]) or 1), 2) for fiber in sample.fetch(chrom) if min_length <= fiber.get_seq_length() <= max_length]\n",
    "    print(len(BPN_list))\n",
    "    return BPN_list"
   ]
  },
  {
   "cell_type": "code",
   "execution_count": 9,
   "metadata": {},
   "outputs": [],
   "source": [
    "# Define function for getting read lengths\n",
    "def get_read_lengths(sample, chrom):\n",
    "    read_length = list(itertools.chain.from_iterable([fiber.get_seq_length()] for fiber in sample.fetch(chrom)))\n",
    "    print(f'Number of reads = {len(read_length)}')\n",
    "    return read_length"
   ]
  },
  {
   "cell_type": "code",
   "execution_count": 10,
   "metadata": {},
   "outputs": [],
   "source": [
    "# Set function for generating a list of all nucleosome lengths from reads aligning to specified chromosome. Needed for nuc_length_for_npr\n",
    "def get_nuc_lengths(sample_name, chromosome):\n",
    "    # Set sample and chromosome you want to analyze\n",
    "    sample = sample_name\n",
    "    chrom = chromosome\n",
    "    \n",
    "    # Generate a list of all nucleosome lengths from reads aligning to specified chromosome\n",
    "    nuc_length = list(itertools.chain.from_iterable([nuc for nuc in fiber.nuc.lengths] for fiber in (sample.fetch(chrom))))\n",
    "\n",
    "    # Return list of nucleosome lengths\n",
    "    return nuc_length\n",
    "\n",
    "# Function for plotting average nucleosome size as a function of nucleosomes per read\n",
    "def nuc_length_for_npr(sample, replicate, chrom):\n",
    "    bam_directory = '/gscratch/stergachislab/bmallo/large_home/ft_data/{}/{}/full_length_bams/{}/nuc_count_filtered_bams/'.format(sample, replicate, chrom)\n",
    "\n",
    "    mean_nuc_size = []\n",
    "    median_nuc_size = []\n",
    "    mode_nuc_size = []\n",
    "\n",
    "    for i in range(1, 50):\n",
    "        bam_file_path = f\"{bam_directory}{i}_nucleosomes.bam\"\n",
    "\n",
    "        # Check if the BAM file exists\n",
    "        if not os.path.exists(bam_file_path):\n",
    "            print(f\"Skipping {bam_file_path} because it does not exist.\")\n",
    "            continue\n",
    "\n",
    "        # Open the BAM file if it exists\n",
    "        bam_file = pyft.Fiberbam(bam_file_path)\n",
    "        nuc_lengths = get_nuc_lengths(bam_file, chrom)\n",
    "        mean_length = mean(nuc_lengths)\n",
    "        median_length = median(nuc_lengths)\n",
    "        mode_length = mode(nuc_lengths)\n",
    "        mean_nuc_size.append(mean_length)\n",
    "        median_nuc_size.append(median_length)\n",
    "        mode_nuc_size.append(mode_length)\n",
    "\n",
    "    # Plotting\n",
    "    plt.figure(figsize=(10, 6))\n",
    "    plt.plot(mean_nuc_size, label='Mean Nucleosome Size')\n",
    "    plt.plot(median_nuc_size, label='Median Nucleosome Size')\n",
    "    plt.plot(mode_nuc_size, label='Mode Nucleosome Size')\n",
    "\n",
    "    plt.title('Nucleosome Size Analysis')\n",
    "    plt.xlabel('File Index')\n",
    "    plt.ylabel('Nucleosome Size')\n",
    "    plt.legend()\n",
    "    plt.show()\n",
    "\n",
    "    return mean_nuc_size, median_nuc_size, mode_nuc_size\n"
   ]
  },
  {
   "cell_type": "code",
   "execution_count": 11,
   "metadata": {},
   "outputs": [],
   "source": [
    "# Function for generating list of all genomic nucleosome lengths\n",
    "def get_genomic_nuc_lengths(sample, chromosomes):\n",
    "    genomic_nuc_length_list = []\n",
    "\n",
    "    for chrom in chromosomes:\n",
    "        for fiber in sample.fetch(chrom):\n",
    "            nuc_lengths = fiber.nuc.lengths\n",
    "            genomic_nuc_length_list.append(nuc_lengths)\n",
    "\n",
    "    return genomic_nuc_length_list"
   ]
  },
  {
   "cell_type": "code",
   "execution_count": 12,
   "metadata": {},
   "outputs": [],
   "source": [
    "def get_genomic_read_lengths(sample, chromosomes):\n",
    "    genomic_read_length_list = []\n",
    "\n",
    "    for chrom in chromosomes:\n",
    "        for fiber in sample.fetch(chrom):\n",
    "            read_lengths = fiber.get_seq_length()\n",
    "            genomic_read_length_list.append(read_lengths)\n",
    "\n",
    "    return genomic_read_length_list"
   ]
  },
  {
   "cell_type": "code",
   "execution_count": 13,
   "metadata": {},
   "outputs": [],
   "source": [
    "def plot_m6a(sample, chrom, ax=None):\n",
    "    # Generate a list containing the number of m6A calls per read\n",
    "    percent_methylated = []\n",
    "    for fiber in sample.fetch(chrom):\n",
    "        AT_count = fiber.seq.count('A') + fiber.seq.count('T')\n",
    "        m6a_count = len(fiber.m6a.starts)\n",
    "        percent_methylated.append(m6a_count/AT_count)\n",
    "    \n",
    "    # If ax is not provided, create a new subplot\n",
    "    if ax is None:\n",
    "        fig, ax = plt.subplots()\n",
    "\n",
    "    # Plotting on the specified axis (or the newly created subplot)\n",
    "    ax.hist(percent_methylated, bins='auto', edgecolor='black', label=f'{chrom}')\n",
    "    ax.set_xlabel('% Methylated', fontsize=11, fontweight='bold')\n",
    "    ax.set_ylabel('Read Count', fontsize=11, fontweight='bold')\n",
    "    ax.set_title(f'{chrom}', fontsize=14, fontweight='bold')\n",
    "    ax.legend()\n",
    "\n",
    "def genomic_plot_m6a(sample, g_chroms, ax=None):\n",
    "    methylated_ratio = []\n",
    "    for chrom in g_chroms:\n",
    "        for fiber in sample.fetch(chrom):\n",
    "            AT_count = fiber.seq.count('A') + fiber.seq.count('T')\n",
    "            m6a_count = len(fiber.m6a.starts)\n",
    "            methylated_ratio.append(m6a_count/AT_count)\n",
    "    \n",
    "    # If ax is not provided, create a new subplot\n",
    "    if ax is None:\n",
    "        fig, ax = plt.subplots()\n",
    "\n",
    "    # Plotting on the specified axis (or the newly created subplot)\n",
    "    ax.hist(methylated_ratio, bins='auto', edgecolor='black', label=f'{chrom}')\n",
    "    ax.set_xlabel('% Methylated', fontsize=11, fontweight='bold')\n",
    "    ax.set_ylabel('Read Count', fontsize=11, fontweight='bold')\n",
    "    ax.set_title('Genomic', fontsize=14, fontweight='bold')\n",
    "    ax.legend()"
   ]
  },
  {
   "cell_type": "code",
   "execution_count": 14,
   "metadata": {},
   "outputs": [
    {
     "name": "stderr",
     "output_type": "stream",
     "text": [
      "[2024-01-17T17:34:34Z INFO  pyft::fiberdata] 75636 records fetched in 142.64s\n",
      "[2024-01-17T17:34:39Z INFO  pyft::fiberdata] Fiberdata made for 75636 records in 4.40s\n",
      "[2024-01-17T17:34:44Z INFO  pyft::fiberdata] 61239 records fetched in 152.02s\n",
      "[2024-01-17T17:34:48Z INFO  pyft::fiberdata] Fiberdata made for 61239 records in 3.87s\n",
      "[2024-01-17T17:34:53Z INFO  pyft::fiberdata] 73413 records fetched in 161.48s\n",
      "[2024-01-17T17:34:58Z INFO  pyft::fiberdata] Fiberdata made for 73413 records in 4.74s\n",
      "[2024-01-17T17:35:04Z INFO  pyft::fiberdata] 17590 records fetched in 171.72s\n",
      "[2024-01-17T17:35:05Z INFO  pyft::fiberdata] Fiberdata made for 17590 records in 0.89s\n",
      "[2024-01-17T17:35:06Z INFO  pyft::fiberdata] 8683 records fetched in 1.46s\n",
      "[2024-01-17T17:35:07Z INFO  pyft::fiberdata] Fiberdata made for 8683 records in 0.53s\n",
      "[2024-01-17T17:35:08Z INFO  pyft::fiberdata] 23091 records fetched in 1.22s\n",
      "[2024-01-17T17:35:09Z INFO  pyft::fiberdata] Fiberdata made for 23091 records in 1.28s\n",
      "[2024-01-17T17:35:11Z INFO  pyft::fiberdata] 8612 records fetched in 1.75s\n",
      "[2024-01-17T17:35:11Z INFO  pyft::fiberdata] Fiberdata made for 8612 records in 0.45s\n",
      "[2024-01-17T17:35:12Z INFO  pyft::fiberdata] 7632 records fetched in 0.71s\n",
      "[2024-01-17T17:35:13Z INFO  pyft::fiberdata] Fiberdata made for 7632 records in 0.43s\n",
      "[2024-01-17T17:35:13Z INFO  pyft::fiberdata] 10231 records fetched in 0.76s\n",
      "[2024-01-17T17:35:14Z INFO  pyft::fiberdata] Fiberdata made for 10231 records in 0.52s\n",
      "[2024-01-17T17:35:15Z INFO  pyft::fiberdata] 12585 records fetched in 0.94s\n",
      "[2024-01-17T17:35:15Z INFO  pyft::fiberdata] Fiberdata made for 12585 records in 0.65s\n",
      "[2024-01-17T17:35:16Z INFO  pyft::fiberdata] 4907 records fetched in 0.92s\n",
      "[2024-01-17T17:35:17Z INFO  pyft::fiberdata] Fiberdata made for 4907 records in 0.33s\n",
      "[2024-01-17T17:35:17Z INFO  pyft::fiberdata] 5394 records fetched in 0.42s\n",
      "[2024-01-17T17:35:17Z INFO  pyft::fiberdata] Fiberdata made for 5394 records in 0.30s\n",
      "[2024-01-17T17:35:18Z INFO  pyft::fiberdata] 4727 records fetched in 0.44s\n",
      "[2024-01-17T17:35:18Z INFO  pyft::fiberdata] Fiberdata made for 4727 records in 0.26s\n",
      "[2024-01-17T17:35:19Z INFO  pyft::fiberdata] 5993 records fetched in 0.44s\n",
      "[2024-01-17T17:35:19Z INFO  pyft::fiberdata] Fiberdata made for 5993 records in 0.30s\n",
      "[2024-01-17T17:35:20Z INFO  pyft::fiberdata] 13579 records fetched in 0.67s\n",
      "[2024-01-17T17:35:20Z INFO  pyft::fiberdata] Fiberdata made for 13579 records in 0.68s\n",
      "[2024-01-17T17:35:21Z INFO  pyft::fiberdata] 12025 records fetched in 1.09s\n",
      "[2024-01-17T17:35:22Z INFO  pyft::fiberdata] Fiberdata made for 12025 records in 0.60s\n",
      "[2024-01-17T17:35:23Z INFO  pyft::fiberdata] 14311 records fetched in 1.05s\n",
      "[2024-01-17T17:35:24Z INFO  pyft::fiberdata] Fiberdata made for 14311 records in 0.72s\n",
      "[2024-01-17T17:35:25Z INFO  pyft::fiberdata] 10569 records fetched in 1.19s\n",
      "[2024-01-17T17:35:25Z INFO  pyft::fiberdata] Fiberdata made for 10569 records in 0.60s\n",
      "[2024-01-17T17:35:26Z INFO  pyft::fiberdata] 245 records fetched in 0.69s\n",
      "[2024-01-17T17:35:26Z INFO  pyft::fiberdata] Fiberdata made for 245 records in 0.07s\n",
      "[2024-01-17T17:35:26Z INFO  pyft::fiberdata] 10204 records fetched in 0.19s\n",
      "[2024-01-17T17:35:27Z INFO  pyft::fiberdata] Fiberdata made for 10204 records in 0.52s\n",
      "[2024-01-17T17:35:28Z INFO  pyft::fiberdata] 6882 records fetched in 0.82s\n",
      "[2024-01-17T17:35:28Z INFO  pyft::fiberdata] Fiberdata made for 6882 records in 0.35s\n",
      "[2024-01-17T17:35:29Z INFO  pyft::fiberdata] 3304 records fetched in 0.58s\n",
      "[2024-01-17T17:35:29Z INFO  pyft::fiberdata] Fiberdata made for 3304 records in 0.18s\n",
      "[2024-01-17T17:35:29Z INFO  pyft::fiberdata] 9315 records fetched in 0.42s\n",
      "[2024-01-17T17:35:30Z INFO  pyft::fiberdata] Fiberdata made for 9315 records in 0.48s\n",
      "[2024-01-17T17:35:31Z INFO  pyft::fiberdata] 5465 records fetched in 0.75s\n",
      "[2024-01-17T17:35:31Z INFO  pyft::fiberdata] Fiberdata made for 5465 records in 0.29s\n",
      "[2024-01-17T17:35:31Z INFO  pyft::fiberdata] 14665 records fetched in 0.60s\n",
      "[2024-01-17T17:35:32Z INFO  pyft::fiberdata] Fiberdata made for 14665 records in 0.72s\n",
      "[2024-01-17T17:35:33Z INFO  pyft::fiberdata] 12653 records fetched in 1.29s\n",
      "[2024-01-17T17:35:34Z INFO  pyft::fiberdata] Fiberdata made for 12653 records in 0.77s\n",
      "[2024-01-17T17:35:35Z INFO  pyft::fiberdata] 8775 records fetched in 1.00s\n",
      "[2024-01-17T17:35:36Z INFO  pyft::fiberdata] Fiberdata made for 8775 records in 0.45s\n"
     ]
    },
    {
     "data": {
      "image/png": "[encoded data removed]",
      "text/plain": [
       "<Figure size 576x720 with 4 Axes>"
      ]
     },
     "metadata": {
      "needs_background": "light"
     },
     "output_type": "display_data"
    }
   ],
   "source": [
    "g_chroms = {'chr1', 'chr2', 'chr3', 'chr4', 'chr5', 'chr6', 'chr7', 'chr8', 'chr9', 'chr10', 'chr11', 'chr12', 'chr13', 'chr14', 'chr15', 'chr16', 'chr17', 'chr18', 'chr19', 'chr20', 'chr21', 'chr22', 'chrX', 'chrY'}\n",
    "\n",
    "fig, axes = plt.subplots(4,1, figsize=(8, 10))\n",
    "\n",
    "plot_m6a(pEF_GFP, 'pEF-GFP', ax=axes[0])\n",
    "\n",
    "plot_m6a(Gus_WT, 'Gus_WT', ax=axes[1])\n",
    "\n",
    "plot_m6a(Gus_Mut, 'Gus_Mut', ax=axes[2])\n",
    "\n",
    "genomic_plot_m6a(GFP_Gus_genomic, g_chroms, ax=axes[3])\n",
    "\n",
    "plt.tight_layout()"
   ]
  },
  {
   "cell_type": "markdown",
   "metadata": {},
   "source": [
    "## Plasmid Analysis"
   ]
  },
  {
   "cell_type": "markdown",
   "metadata": {},
   "source": [
    "#### Get read lengths"
   ]
  },
  {
   "cell_type": "code",
   "execution_count": 15,
   "metadata": {},
   "outputs": [
    {
     "name": "stderr",
     "output_type": "stream",
     "text": [
      "[2024-01-17T17:36:51Z INFO  pyft::fiberdata] 75636 records fetched in 131.81s\n",
      "[2024-01-17T17:36:54Z INFO  pyft::fiberdata] Fiberdata made for 75636 records in 3.72s\n"
     ]
    },
    {
     "name": "stdout",
     "output_type": "stream",
     "text": [
      "Number of reads = 75636\n"
     ]
    }
   ],
   "source": [
    "pEF_GFP_read_lengths = get_read_lengths(pEF_GFP, 'pEF-GFP')"
   ]
  },
  {
   "cell_type": "markdown",
   "metadata": {},
   "source": [
    "#### Get nucleosome lengths"
   ]
  },
  {
   "cell_type": "code",
   "execution_count": 21,
   "metadata": {},
   "outputs": [
    {
     "name": "stderr",
     "output_type": "stream",
     "text": [
      "[2024-01-17T17:40:13Z INFO  pyft::fiberdata] 75636 records fetched in 135.24s\n",
      "[2024-01-17T17:40:17Z INFO  pyft::fiberdata] Fiberdata made for 75636 records in 4.06s\n",
      "[2024-01-17T17:40:20Z INFO  pyft::fiberdata] 61239 records fetched in 135.36s\n",
      "[2024-01-17T17:40:24Z INFO  pyft::fiberdata] Fiberdata made for 61239 records in 4.18s\n",
      "[2024-01-17T17:40:27Z INFO  pyft::fiberdata] 73413 records fetched in 135.01s\n",
      "[2024-01-17T17:40:32Z INFO  pyft::fiberdata] Fiberdata made for 73413 records in 5.01s\n"
     ]
    }
   ],
   "source": [
    "pEF_GFP_nuc_lenghts = get_nuc_lengths(pEF_GFP, 'pEF-GFP')\n",
    "Gus_WT_nuc_lengths = get_nuc_lengths(Gus_WT, 'Gus_WT')\n",
    "Gus_Mut_nuc_lengths = get_nuc_lengths(Gus_Mut, 'Gus_Mut')"
   ]
  },
  {
   "cell_type": "markdown",
   "metadata": {},
   "source": [
    "#### Get nucleosomes per read"
   ]
  },
  {
   "cell_type": "code",
   "execution_count": 17,
   "metadata": {},
   "outputs": [
    {
     "name": "stderr",
     "output_type": "stream",
     "text": [
      "[2024-01-17T17:37:09Z INFO  pyft::fiberdata] 75636 records fetched in 4.75s\n",
      "[2024-01-17T17:37:13Z INFO  pyft::fiberdata] Fiberdata made for 75636 records in 3.60s\n"
     ]
    },
    {
     "name": "stdout",
     "output_type": "stream",
     "text": [
      "Number of reads: 75636, mean = 13.321103707229362, mode = 19\n"
     ]
    },
    {
     "name": "stderr",
     "output_type": "stream",
     "text": [
      "[2024-01-17T17:37:15Z INFO  pyft::fiberdata] 61239 records fetched in 147.32s\n",
      "[2024-01-17T17:37:19Z INFO  pyft::fiberdata] Fiberdata made for 61239 records in 3.65s\n"
     ]
    },
    {
     "name": "stdout",
     "output_type": "stream",
     "text": [
      "Number of reads: 61239, mean = 16.27315926125508, mode = 0\n"
     ]
    },
    {
     "name": "stderr",
     "output_type": "stream",
     "text": [
      "[2024-01-17T17:37:21Z INFO  pyft::fiberdata] 73413 records fetched in 143.33s\n",
      "[2024-01-17T17:37:26Z INFO  pyft::fiberdata] Fiberdata made for 73413 records in 4.44s\n"
     ]
    },
    {
     "name": "stdout",
     "output_type": "stream",
     "text": [
      "Number of reads: 73413, mean = 16.448394698486645, mode = 0\n"
     ]
    }
   ],
   "source": [
    "# Define chrom and read lengths\n",
    "\n",
    "# # pEF-GFP lengths = 5024 - 5084\n",
    "pEF_GFP_count = get_npr(pEF_GFP,'pEF-GFP', 5000, 5100)\n",
    "Gus_WT_count = get_npr(Gus_WT,'Gus_WT', 6410, 6510)\n",
    "Gus_Mut_count = get_npr(Gus_Mut,'Gus_Mut', 6410, 6510)\n",
    "\n",
    "# # Gus plasmid lengths = 6432 - 6492\n",
    "# HepG2_count = get_npr(HepG2,'HepG2', 5000, 5100)\n",
    "# Hek293_count = get_npr(Hek293,'Hek293', 5000, 5100)\n",
    "# A375_count = get_npr(A375,'A375', 5000, 5100)\n",
    "# K562_count = get_npr(K562,'K562', 5000, 5100)\n",
    "# HAP1_count = get_npr(HAP1,'HAP1', 5000, 5100)"
   ]
  },
  {
   "cell_type": "markdown",
   "metadata": {},
   "source": [
    "#### Get bp per nucleosome"
   ]
  },
  {
   "cell_type": "code",
   "execution_count": 18,
   "metadata": {},
   "outputs": [
    {
     "name": "stderr",
     "output_type": "stream",
     "text": [
      "[2024-01-17T17:37:54Z INFO  pyft::fiberdata] 75636 records fetched in 41.51s\n",
      "[2024-01-17T17:37:58Z INFO  pyft::fiberdata] Fiberdata made for 75636 records in 3.59s\n"
     ]
    },
    {
     "name": "stdout",
     "output_type": "stream",
     "text": [
      "75636\n"
     ]
    },
    {
     "name": "stderr",
     "output_type": "stream",
     "text": [
      "[2024-01-17T17:38:00Z INFO  pyft::fiberdata] 61239 records fetched in 41.65s\n",
      "[2024-01-17T17:38:04Z INFO  pyft::fiberdata] Fiberdata made for 61239 records in 3.86s\n"
     ]
    },
    {
     "name": "stdout",
     "output_type": "stream",
     "text": [
      "61239\n"
     ]
    },
    {
     "name": "stderr",
     "output_type": "stream",
     "text": [
      "[2024-01-17T17:38:07Z INFO  pyft::fiberdata] 73413 records fetched in 41.13s\n",
      "[2024-01-17T17:38:12Z INFO  pyft::fiberdata] Fiberdata made for 73413 records in 4.63s\n"
     ]
    },
    {
     "name": "stdout",
     "output_type": "stream",
     "text": [
      "73413\n"
     ]
    }
   ],
   "source": [
    "pEF_GFP_BPN = get_BPN(pEF_GFP, 'pEF-GFP', 5000, 5100)\n",
    "Gus_WT_BPN = get_BPN(Gus_WT, 'Gus_WT', 6410, 6510)\n",
    "Gus_Mut_BPN = get_BPN(Gus_Mut, 'Gus_Mut', 6410, 6510)"
   ]
  },
  {
   "cell_type": "markdown",
   "metadata": {},
   "source": [
    "#### Get nucleosome length as a function of npr"
   ]
  },
  {
   "cell_type": "code",
   "execution_count": null,
   "metadata": {},
   "outputs": [],
   "source": [
    "pEF_GFP_nl_npr = nuc_length_for_npr(pEF_GFP, 'pEF-GFP', 'pEF-GFP')"
   ]
  },
  {
   "cell_type": "markdown",
   "metadata": {},
   "source": [
    "#### Plot read lengths"
   ]
  },
  {
   "cell_type": "code",
   "execution_count": null,
   "metadata": {},
   "outputs": [],
   "source": []
  },
  {
   "cell_type": "markdown",
   "metadata": {},
   "source": [
    "#### Plot nucleosome lengths"
   ]
  },
  {
   "cell_type": "code",
   "execution_count": 23,
   "metadata": {},
   "outputs": [
    {
     "data": {
      "image/png": "[encoded data removed]",
      "text/plain": [
       "<Figure size 432x288 with 1 Axes>"
      ]
     },
     "metadata": {
      "needs_background": "light"
     },
     "output_type": "display_data"
    },
    {
     "data": {
      "image/png": "[encoded data removed]",
      "text/plain": [
       "<Figure size 432x288 with 1 Axes>"
      ]
     },
     "metadata": {
      "needs_background": "light"
     },
     "output_type": "display_data"
    }
   ],
   "source": [
    "plot_nucleosome_lengths(Gus_WT_nuc_lengths, 'Gus_WT Nucleosome Sizes')\n",
    "plot_nucleosome_lengths(Gus_Mut_nuc_lengths, 'Gus_Mut Nucleosome Sizes')\n",
    "#plot_nucleosome_lengths(A375_nucs, 'A375 Nucleosome Sizes')\n",
    "# plot_nucleosome_lengths(K562_nucs, 'K562 Nucleosome Sizes')\n",
    "# plot_nucleosome_lengths(HAP1_nucs, 'HAP1 Nucleosome Sizes')\n"
   ]
  },
  {
   "cell_type": "markdown",
   "metadata": {},
   "source": [
    "#### Plot nucleosomes per read"
   ]
  },
  {
   "cell_type": "code",
   "execution_count": 33,
   "metadata": {},
   "outputs": [
    {
     "data": {
      "image/png": "[encoded data removed]",
      "text/plain": [
       "<Figure size 432x288 with 1 Axes>"
      ]
     },
     "metadata": {
      "needs_background": "light"
     },
     "output_type": "display_data"
    }
   ],
   "source": [
    "filtered_histogram([pEF_GFP_count, Gus_WT_count, Gus_Mut_count], ['pEF-GFP', 'Gus_WT', 'Gus_Mut'], ['teal', 'gold', 'red'], replicate='rep_2')"
   ]
  },
  {
   "cell_type": "markdown",
   "metadata": {},
   "source": [
    "#### Plot bp per nucleosome"
   ]
  },
  {
   "cell_type": "code",
   "execution_count": 82,
   "metadata": {},
   "outputs": [
    {
     "data": {
      "image/png": "[encoded data removed]",
      "text/plain": [
       "<Figure size 720x432 with 1 Axes>"
      ]
     },
     "metadata": {
      "needs_background": "light"
     },
     "output_type": "display_data"
    }
   ],
   "source": [
    "def plot_multiple_datasets(datasets, labels, figsize = (10, 6), legend_fontsize = 12):\n",
    "    \"\"\"\n",
    "    Plot multiple datasets on the same KDE plot.\n",
    "\n",
    "    Parameters:\n",
    "    - datasets: List of datasets to be plotted.\n",
    "    - labels: List of labels for each dataset (to be used in the legend).\n",
    "    \"\"\"\n",
    "\n",
    "    plt.figure(figsize=figsize)\n",
    "\n",
    "     # Define distinguishable colors\n",
    "    palette = sns.color_palette(\"husl\", n_colors=len(datasets))\n",
    "\n",
    "    for data, label, color in zip(datasets, labels, palette):\n",
    "        ax = sns.kdeplot(data, label=label, shade=True, color=color, cut=0)\n",
    "        ax.yaxis.set_major_locator(MaxNLocator(integer=True))\n",
    "\n",
    "    # Set labels and title\n",
    "    plt.xlabel('Base Pairs per Nucleosome', fontsize=12, fontweight='bold')\n",
    "    plt.title('BPN across different Plasmid Lengths', fontsize=16, fontweight='bold')\n",
    "\n",
    "    binwidth = 50\n",
    "    ax.yaxis.set_major_formatter(PercentFormatter(1/binwidth))\n",
    "    ax.set_ylabel(f'Percent of reads in bin (binwidth = {binwidth})', fontsize=12, fontweight='bold')\n",
    "\n",
    "    # Show legend\n",
    "    plt.legend(fontsize=legend_fontsize)\n",
    "\n",
    "    plt.savefig('/gscratch/stergachislab/bmallo/large_home/ft_data/pEF_GFP_Gus/rep_2/Figures/all_plasmid_BPN_density.png', dpi=300, bbox_inches='tight')\n",
    "\n",
    "labels = ['pEF-GFP', 'SCL39A4_WT', 'SLC39A4_Mut']\n",
    "plot_multiple_datasets([pEF_GFP_BPN, Gus_WT_BPN ,Gus_Mut_BPN], labels)"
   ]
  },
  {
   "cell_type": "code",
   "execution_count": 85,
   "metadata": {},
   "outputs": [
    {
     "name": "stdout",
     "output_type": "stream",
     "text": [
      "266.21\n",
      "248.69\n",
      "258.64\n"
     ]
    }
   ],
   "source": [
    "filtered_pEF_GFP_BPN = [x for x in pEF_GFP_BPN if 150 <= x <= 1000]\n",
    "filtered_Gus_WT_BPN = [x for x in Gus_WT_BPN if 150 <= x <= 1000]\n",
    "filtered_Gus_Mut_BPN = [x for x in Gus_Mut_BPN if 150 <= x <= 1000]\n",
    "\n",
    "print(mode(filtered_pEF_GFP_BPN))\n",
    "print(mode(filtered_Gus_WT_BPN))\n",
    "print(mode(filtered_Gus_Mut_BPN))   "
   ]
  },
  {
   "cell_type": "markdown",
   "metadata": {},
   "source": [
    "#### Plot nucleosome length as a function of npr"
   ]
  },
  {
   "cell_type": "markdown",
   "metadata": {},
   "source": [
    "## Genomic Analysis"
   ]
  },
  {
   "cell_type": "markdown",
   "metadata": {},
   "source": [
    "### Get all nucleosome lengths from genomic BAM"
   ]
  },
  {
   "cell_type": "code",
   "execution_count": null,
   "metadata": {},
   "outputs": [],
   "source": [
    "# Generate nucleosome length lists\n",
    "chromosomes = ['chr1', 'chr2', 'chr3', 'chr4', 'chr5', 'chr6', 'chr7', 'chr8', 'chr9', 'chr10', 'chr11', 'chr12', 'chr13', 'chr14', 'chr15', 'chr16', 'chr17', 'chr18', 'chr19', 'chr20', 'chr21', 'chr22', 'chrX', 'chrY']\n",
    "\n",
    "GFP_Gus_genomic_nuc_lengths = get_genomic_nuc_lengths(GFP_Gus_genomic, chromosomes)\n",
    "Multi_cell_genomic_nuc_lengths = get_genomic_nuc_lengths(multi_cell_genomic, chromosomes)\n",
    "# pEF_GFP_nucs = get_nuc_lengths(pEF_GFP, \"pEF-GFP\")\n",
    "# Gus_WT_nucs = get_nuc_lengths(Gus_WT, \"Gus_WT\")\n",
    "# Gus_Mut_nucs = get_nuc_lengths(Gus_Mut, \"Gus_Mut\")\n",
    "# K562_nucs = get_nuc_lengths(K562, \"K562\")\n",
    "# HAP1_nucs = get_nuc_lengths(HAP1, \"HAP1\")"
   ]
  },
  {
   "cell_type": "markdown",
   "metadata": {},
   "source": [
    "### Get all read lengths from genomic BAM"
   ]
  },
  {
   "cell_type": "code",
   "execution_count": null,
   "metadata": {},
   "outputs": [],
   "source": [
    "chromosomes = ['chr1', 'chr2', 'chr3', 'chr4', 'chr5', 'chr6', 'chr7', 'chr8', 'chr9', 'chr10', 'chr11', 'chr12', 'chr13', 'chr14', 'chr15', 'chr16', 'chr17', 'chr18', 'chr19', 'chr20', 'chr21', 'chr22', 'chrX', 'chrY']\n",
    "\n",
    "GFP_Gus_genomic_read_lengths = get_genomic_read_lengths(GFP_Gus_genomic, chromosomes)\n",
    "Multi_cell_genomic_read_lengths = get_genomic_read_lengths(multi_cell_genomic, chromosomes)"
   ]
  },
  {
   "cell_type": "code",
   "execution_count": null,
   "metadata": {},
   "outputs": [],
   "source": [
    "plt.hist(read_length_list, range=(5000, 5100), bins=50)"
   ]
  },
  {
   "cell_type": "code",
   "execution_count": null,
   "metadata": {},
   "outputs": [],
   "source": [
    "# Plot nucleosome lengths on the same plot\n",
    "plt.hist(HepG2_nucs, bins=100, range=(0,1000), color='seagreen', label='Gus WT', density=True, histtype='step', linewidth=1)\n",
    "plt.hist(Hek293_nucs, bins=100, range=(0,1000), color='royalblue', label='Gus_MUT', density=True, histtype='step', linewidth=1)\n",
    "plt.hist(A375_nucs, bins=1000, range=(0,1000), color='darkorange', label='pEF GFP', density=True, histtype='step', linewidth=1)\n",
    "plt.hist(K562_nucs, bins=1000, range=(0,1000), color='purple', label='pEF GFP', density=True, histtype='step', linewidth=1)\n",
    "plt.hist(HAP1_nucs, bins=1000, range=(0,1000), color='red', label='pEF GFP', density=True, histtype='step', linewidth=1)\n",
    "\n",
    "\n",
    "# Add labels to the plot\n",
    "plt.xlabel('Nucleosomes Lengths', fontsize=11, fontweight='bold')\n",
    "plt.ylabel('Normalized Read Count', fontsize=11, fontweight='bold')\n",
    "plt.title('Nucleosomes per Read (WT vs MUT)', fontsize=14, fontweight='bold')"
   ]
  }
 ],
 "metadata": {
  "kernelspec": {
   "display_name": "fiberseq-smk",
   "language": "python",
   "name": "python3"
  },
  "language_info": {
   "codemirror_mode": {
    "name": "ipython",
    "version": 3
   },
   "file_extension": ".py",
   "mimetype": "text/x-python",
   "name": "python",
   "nbconvert_exporter": "python",
   "pygments_lexer": "ipython3",
   "version": "3.9.13"
  },
  "orig_nbformat": 4
 },
 "nbformat": 4,
 "nbformat_minor": 2
}
