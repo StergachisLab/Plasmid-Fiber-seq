{
 "cells": [
  {
   "cell_type": "code",
   "execution_count": 1,
   "metadata": {},
   "outputs": [],
   "source": [
    "import os\n",
    "import pysam"
   ]
  },
  {
   "cell_type": "code",
   "execution_count": 3,
   "metadata": {},
   "outputs": [],
   "source": [
    "def filter_reads_by_chromosome(input_bam, output_directory, output_prefix):\n",
    "    # Define the list of chromosomes to filter\n",
    "    target_chromosomes = ['Gus_WT', 'Gus_MUT', 'pEF_GFP']\n",
    "    genomic_chromosomes = [f'chr{i}' for i in range(1, 23)] + ['chrX', 'chrY']\n",
    "\n",
    "    # Open the input BAM file\n",
    "    input_samfile = pysam.AlignmentFile(input_bam, 'rb')\n",
    "\n",
    "    # Create the output directory if it doesn't exist\n",
    "    os.makedirs(output_directory, exist_ok=True)\n",
    "\n",
    "    # Extract and set the header for output BAM files\n",
    "    header = input_samfile.header\n",
    "\n",
    "    # Initialize output BAM files for target chromosomes\n",
    "    output_files = {}\n",
    "    for chromosome in target_chromosomes:\n",
    "        output_filename = os.path.join(output_directory, f\"{output_prefix}_{chromosome}.bam\")\n",
    "        output_files[chromosome] = pysam.AlignmentFile(output_filename, 'wb', header=header)\n",
    "\n",
    "    # Initialize a single output BAM file for genomic chromosomes\n",
    "    genomic_output_filename = os.path.join(output_directory, f\"{output_prefix}_genomic_reads.bam\")\n",
    "    genomic_output_file = pysam.AlignmentFile(genomic_output_filename, 'wb', header=header)\n",
    "\n",
    "    # Process each read in the input BAM file\n",
    "    for read in input_samfile:\n",
    "        chromosome = read.reference_name\n",
    "\n",
    "        # Write the read to the corresponding output BAM file\n",
    "        if chromosome in target_chromosomes:\n",
    "            output_files[chromosome].write(read)\n",
    "        elif chromosome in genomic_chromosomes:\n",
    "            genomic_output_file.write(read)\n",
    "\n",
    "    # Close all the output BAM files\n",
    "    for output_file in output_files.values():\n",
    "        output_file.close()\n",
    "\n",
    "    genomic_output_file.close()\n",
    "\n",
    "    # Close the input BAM file\n",
    "    input_samfile.close()\n"
   ]
  },
  {
   "cell_type": "code",
   "execution_count": 4,
   "metadata": {},
   "outputs": [
    {
     "ename": "ValueError",
     "evalue": "file has no sequences defined (mode='rb') - is it SAM/BAM format? Consider opening with check_sq=False",
     "output_type": "error",
     "traceback": [
      "\u001b[0;31m---------------------------------------------------------------------------\u001b[0m",
      "\u001b[0;31mValueError\u001b[0m                                Traceback (most recent call last)",
      "\u001b[1;32m/gscratch/stergachislab/bmallo/large_home/ft_data/plasmid_mix_71923/python_scripts/sort_bam_by_chrom.ipynb Cell 3\u001b[0m in \u001b[0;36m<cell line: 4>\u001b[0;34m()\u001b[0m\n\u001b[1;32m      <a href='vscode-notebook-cell://ssh-remote%2Bklone-compute/gscratch/stergachislab/bmallo/large_home/ft_data/plasmid_mix_71923/python_scripts/sort_bam_by_chrom.ipynb#W2sdnNjb2RlLXJlbW90ZQ%3D%3D?line=1'>2</a>\u001b[0m output_directory \u001b[39m=\u001b[39m \u001b[39m\"\u001b[39m\u001b[39m/gscratch/stergachislab/bmallo/large_home/ft_data/plasmid_mix_71923/plasmid_mix_frozen/filtered_bams\u001b[39m\u001b[39m\"\u001b[39m\n\u001b[1;32m      <a href='vscode-notebook-cell://ssh-remote%2Bklone-compute/gscratch/stergachislab/bmallo/large_home/ft_data/plasmid_mix_71923/python_scripts/sort_bam_by_chrom.ipynb#W2sdnNjb2RlLXJlbW90ZQ%3D%3D?line=2'>3</a>\u001b[0m output_prefix \u001b[39m=\u001b[39m \u001b[39m\"\u001b[39m\u001b[39mfiltered\u001b[39m\u001b[39m\"\u001b[39m\n\u001b[0;32m----> <a href='vscode-notebook-cell://ssh-remote%2Bklone-compute/gscratch/stergachislab/bmallo/large_home/ft_data/plasmid_mix_71923/python_scripts/sort_bam_by_chrom.ipynb#W2sdnNjb2RlLXJlbW90ZQ%3D%3D?line=3'>4</a>\u001b[0m filter_reads_by_chromosome(input_bam_file, output_directory, output_prefix)\n",
      "\u001b[1;32m/gscratch/stergachislab/bmallo/large_home/ft_data/plasmid_mix_71923/python_scripts/sort_bam_by_chrom.ipynb Cell 3\u001b[0m in \u001b[0;36mfilter_reads_by_chromosome\u001b[0;34m(input_bam, output_directory, output_prefix)\u001b[0m\n\u001b[1;32m      <a href='vscode-notebook-cell://ssh-remote%2Bklone-compute/gscratch/stergachislab/bmallo/large_home/ft_data/plasmid_mix_71923/python_scripts/sort_bam_by_chrom.ipynb#W2sdnNjb2RlLXJlbW90ZQ%3D%3D?line=3'>4</a>\u001b[0m genomic_chromosomes \u001b[39m=\u001b[39m [\u001b[39mf\u001b[39m\u001b[39m'\u001b[39m\u001b[39mchr\u001b[39m\u001b[39m{\u001b[39;00mi\u001b[39m}\u001b[39;00m\u001b[39m'\u001b[39m \u001b[39mfor\u001b[39;00m i \u001b[39min\u001b[39;00m \u001b[39mrange\u001b[39m(\u001b[39m1\u001b[39m, \u001b[39m23\u001b[39m)] \u001b[39m+\u001b[39m [\u001b[39m'\u001b[39m\u001b[39mchrX\u001b[39m\u001b[39m'\u001b[39m, \u001b[39m'\u001b[39m\u001b[39mchrY\u001b[39m\u001b[39m'\u001b[39m]\n\u001b[1;32m      <a href='vscode-notebook-cell://ssh-remote%2Bklone-compute/gscratch/stergachislab/bmallo/large_home/ft_data/plasmid_mix_71923/python_scripts/sort_bam_by_chrom.ipynb#W2sdnNjb2RlLXJlbW90ZQ%3D%3D?line=5'>6</a>\u001b[0m \u001b[39m# Open the input BAM file\u001b[39;00m\n\u001b[0;32m----> <a href='vscode-notebook-cell://ssh-remote%2Bklone-compute/gscratch/stergachislab/bmallo/large_home/ft_data/plasmid_mix_71923/python_scripts/sort_bam_by_chrom.ipynb#W2sdnNjb2RlLXJlbW90ZQ%3D%3D?line=6'>7</a>\u001b[0m input_samfile \u001b[39m=\u001b[39m pysam\u001b[39m.\u001b[39;49mAlignmentFile(input_bam, \u001b[39m'\u001b[39;49m\u001b[39mrb\u001b[39;49m\u001b[39m'\u001b[39;49m)\n\u001b[1;32m      <a href='vscode-notebook-cell://ssh-remote%2Bklone-compute/gscratch/stergachislab/bmallo/large_home/ft_data/plasmid_mix_71923/python_scripts/sort_bam_by_chrom.ipynb#W2sdnNjb2RlLXJlbW90ZQ%3D%3D?line=8'>9</a>\u001b[0m \u001b[39m# Create the output directory if it doesn't exist\u001b[39;00m\n\u001b[1;32m     <a href='vscode-notebook-cell://ssh-remote%2Bklone-compute/gscratch/stergachislab/bmallo/large_home/ft_data/plasmid_mix_71923/python_scripts/sort_bam_by_chrom.ipynb#W2sdnNjb2RlLXJlbW90ZQ%3D%3D?line=9'>10</a>\u001b[0m os\u001b[39m.\u001b[39mmakedirs(output_directory, exist_ok\u001b[39m=\u001b[39m\u001b[39mTrue\u001b[39;00m)\n",
      "File \u001b[0;32mpysam/libcalignmentfile.pyx:751\u001b[0m, in \u001b[0;36mpysam.libcalignmentfile.AlignmentFile.__cinit__\u001b[0;34m()\u001b[0m\n",
      "File \u001b[0;32mpysam/libcalignmentfile.pyx:1000\u001b[0m, in \u001b[0;36mpysam.libcalignmentfile.AlignmentFile._open\u001b[0;34m()\u001b[0m\n",
      "\u001b[0;31mValueError\u001b[0m: file has no sequences defined (mode='rb') - is it SAM/BAM format? Consider opening with check_sq=False"
     ]
    }
   ],
   "source": [
    "input_bam_file = \"/gscratch/stergachislab/bmallo/large_home/ft_data/plasmid_mix_71923/plasmid_mix_frozen/mixed_plasmids_frozen.bam\"\n",
    "output_directory = \"/gscratch/stergachislab/bmallo/large_home/ft_data/plasmid_mix_71923/plasmid_mix_frozen/filtered_bams\"\n",
    "output_prefix = \"filtered\"\n",
    "filter_reads_by_chromosome(input_bam_file, output_directory, output_prefix)"
   ]
  }
 ],
 "metadata": {
  "kernelspec": {
   "display_name": "general",
   "language": "python",
   "name": "python3"
  },
  "language_info": {
   "codemirror_mode": {
    "name": "ipython",
    "version": 3
   },
   "file_extension": ".py",
   "mimetype": "text/x-python",
   "name": "python",
   "nbconvert_exporter": "python",
   "pygments_lexer": "ipython3",
   "version": "3.9.13"
  },
  "orig_nbformat": 4
 },
 "nbformat": 4,
 "nbformat_minor": 2
}
