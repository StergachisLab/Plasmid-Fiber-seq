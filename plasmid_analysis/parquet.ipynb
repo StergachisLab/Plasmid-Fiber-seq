{
 "cells": [
  {
   "cell_type": "code",
   "execution_count": 1,
   "metadata": {},
   "outputs": [],
   "source": [
    "import os\n",
    "import sys\n",
    "import pandas as pd\n",
    "import numpy as np\n",
    "import pyarrow as pa\n",
    "import pyarrow.parquet as pq"
   ]
  },
  {
   "cell_type": "code",
   "execution_count": 3,
   "metadata": {},
   "outputs": [],
   "source": [
    "input_dir = '/gscratch/stergachislab/bmallo/large_home/hmm-footprint-caller/pEF_GFP_Gus/Infiles/parquet/methyl_filtered_50.m6a.gz'\n",
    "\n",
    "output_file = '/gscratch/stergachislab/bmallo/large_home/hmm-footprint-caller/pEF_GFP_Gus/Infiles/parquet/methyl_filtered_50.m6a.gz/methyl_filtered_50.m6a.merged_read-info.pq'"
   ]
  },
  {
   "cell_type": "code",
   "execution_count": 23,
   "metadata": {},
   "outputs": [
    {
     "data": {
      "text/html": [
       "<div>\n",
       "<style scoped>\n",
       "    .dataframe tbody tr th:only-of-type {\n",
       "        vertical-align: middle;\n",
       "    }\n",
       "\n",
       "    .dataframe tbody tr th {\n",
       "        vertical-align: top;\n",
       "    }\n",
       "\n",
       "    .dataframe thead th {\n",
       "        text-align: right;\n",
       "    }\n",
       "</style>\n",
       "<table border=\"1\" class=\"dataframe\">\n",
       "  <thead>\n",
       "    <tr style=\"text-align: right;\">\n",
       "      <th></th>\n",
       "      <th>chrom</th>\n",
       "      <th>start</th>\n",
       "      <th>end</th>\n",
       "      <th>rid</th>\n",
       "      <th>me</th>\n",
       "    </tr>\n",
       "  </thead>\n",
       "  <tbody>\n",
       "    <tr>\n",
       "      <th>0</th>\n",
       "      <td>chrG</td>\n",
       "      <td>12350</td>\n",
       "      <td>23834</td>\n",
       "      <td>m84046_231101_210920_s3/118949220/ccs</td>\n",
       "      <td>0,35,43,52,359,394,398,699,713,929,1198,1204,1...</td>\n",
       "    </tr>\n",
       "    <tr>\n",
       "      <th>1</th>\n",
       "      <td>chrG</td>\n",
       "      <td>17913</td>\n",
       "      <td>22407</td>\n",
       "      <td>m84046_231101_210920_s3/241568317/ccs</td>\n",
       "      <td>0,2,5,41,118,128,131,132,138,149,151,167,169,1...</td>\n",
       "    </tr>\n",
       "    <tr>\n",
       "      <th>2</th>\n",
       "      <td>chrG</td>\n",
       "      <td>53469</td>\n",
       "      <td>58825</td>\n",
       "      <td>m84046_231101_210920_s3/104269537/ccs</td>\n",
       "      <td>0,0,1,2,4,5,6,39,64,66,69,71,83,85,93,96,98,41...</td>\n",
       "    </tr>\n",
       "    <tr>\n",
       "      <th>3</th>\n",
       "      <td>chrG</td>\n",
       "      <td>54401</td>\n",
       "      <td>64081</td>\n",
       "      <td>m84046_231101_210920_s3/126554138/ccs</td>\n",
       "      <td>0,0,1,2,3,5,6,275,278,279,286,288,289,295,297,...</td>\n",
       "    </tr>\n",
       "    <tr>\n",
       "      <th>4</th>\n",
       "      <td>chrG</td>\n",
       "      <td>93823</td>\n",
       "      <td>98665</td>\n",
       "      <td>m84046_231101_210920_s3/80154328/ccs</td>\n",
       "      <td>0,56,58,209,422,439,441,448,468,477,784,787,79...</td>\n",
       "    </tr>\n",
       "  </tbody>\n",
       "</table>\n",
       "</div>"
      ],
      "text/plain": [
       "  chrom  start    end                                    rid   \n",
       "0  chrG  12350  23834  m84046_231101_210920_s3/118949220/ccs  \\\n",
       "1  chrG  17913  22407  m84046_231101_210920_s3/241568317/ccs   \n",
       "2  chrG  53469  58825  m84046_231101_210920_s3/104269537/ccs   \n",
       "3  chrG  54401  64081  m84046_231101_210920_s3/126554138/ccs   \n",
       "4  chrG  93823  98665   m84046_231101_210920_s3/80154328/ccs   \n",
       "\n",
       "                                                  me  \n",
       "0  0,35,43,52,359,394,398,699,713,929,1198,1204,1...  \n",
       "1  0,2,5,41,118,128,131,132,138,149,151,167,169,1...  \n",
       "2  0,0,1,2,4,5,6,39,64,66,69,71,83,85,93,96,98,41...  \n",
       "3  0,0,1,2,3,5,6,275,278,279,286,288,289,295,297,...  \n",
       "4  0,56,58,209,422,439,441,448,468,477,784,787,79...  "
      ]
     },
     "execution_count": 23,
     "metadata": {},
     "output_type": "execute_result"
    }
   ],
   "source": [
    "reads = pd.read_csv('/gscratch/stergachislab/bmallo/large_home/hmm-footprint-caller/pEF_GFP_Gus/Infiles/bed/modified_rep_2_genomic.m6a.bed.gz', usecols=[0, 1, 2, 3, 11], names=['chrom', 'start', 'end', 'rid', 'me'], sep='\\t')\n",
    "#reads = pd.read_csv('/gscratch/stergachislab/bmallo/large_home/hmm-footprint-caller/pEF_GFP_Gus/Infiles/bed/rep_2_genomic.m6a.bed.gz', sep='\\t')\n",
    "\n",
    "reads.head()\n",
    "# reads = reads.loc[reads['me'] != '.']\n",
    "# reads = reads.sort_values(by=['chorm', 'start'])\n",
    "# reads = reads.reset_index(drop=True)\n",
    "# reads.index = reads.index.astype(str)\n",
    "\n",
    "# #Write all reads to single parquet file\n",
    "# # reads = reads['me'].str.split(pat=',', expand=True).T\n",
    "# # reads.to_parquet('/gscratch/stergachislab/bmallo/large_home/hmm-footprint-caller/pEF_GFP_Gus/Infiles/parquet/methyl_filtered_50.m6a.gz/methyl_filtered_50.m6a.gz_merged.pq')\n",
    "\n",
    "# #Write out to parquet\n",
    "# reads = reads.drop(columns=['me'])\n",
    "# reads.to_parquet(output_file)"
   ]
  },
  {
   "cell_type": "code",
   "execution_count": 21,
   "metadata": {},
   "outputs": [],
   "source": [
    "reads['chrom'] = 'chrG'\n",
    "reads.to_csv('/gscratch/stergachislab/bmallo/large_home/hmm-footprint-caller/pEF_GFP_Gus/Infiles/bed/modified_rep_2_genomic.m6a.bed.gz', sep='\\t', compression='gzip', index=False, header=False)"
   ]
  }
 ],
 "metadata": {
  "kernelspec": {
   "display_name": "general",
   "language": "python",
   "name": "python3"
  },
  "language_info": {
   "codemirror_mode": {
    "name": "ipython",
    "version": 3
   },
   "file_extension": ".py",
   "mimetype": "text/x-python",
   "name": "python",
   "nbconvert_exporter": "python",
   "pygments_lexer": "ipython3",
   "version": "3.9.16"
  }
 },
 "nbformat": 4,
 "nbformat_minor": 2
}
