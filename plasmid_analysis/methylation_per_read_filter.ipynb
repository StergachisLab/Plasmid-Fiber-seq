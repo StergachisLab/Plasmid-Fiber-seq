{
 "cells": [
  {
   "cell_type": "code",
   "execution_count": 1,
   "metadata": {},
   "outputs": [],
   "source": [
    "import os\n",
    "#import pyarrow\n",
    "#import pysam    \n",
    "import numpy as np\n",
    "import pandas as pd\n",
    "import seaborn as sns\n",
    "import matplotlib.pyplot as plt"
   ]
  },
  {
   "cell_type": "code",
   "execution_count": 9,
   "metadata": {},
   "outputs": [],
   "source": [
    "m6a_df = pd.read_csv('/gscratch/stergachislab/bmallo/large_home/fiberseq-smk/results/Plasmid_Time_Course/70_bp_nuc_snakemake/HepG2/KO_LeaGFP_HepG2_48h_nuclei/nucleosome_filtered_plasmid_reads/HepG2_48h_nuclei_chromatinized_reads.m6a.bed', delimiter='\\t', header=None)"
   ]
  },
  {
   "cell_type": "code",
   "execution_count": 10,
   "metadata": {},
   "outputs": [
    {
     "data": {
      "text/html": [
       "<div>\n",
       "<style scoped>\n",
       "    .dataframe tbody tr th:only-of-type {\n",
       "        vertical-align: middle;\n",
       "    }\n",
       "\n",
       "    .dataframe tbody tr th {\n",
       "        vertical-align: top;\n",
       "    }\n",
       "\n",
       "    .dataframe thead th {\n",
       "        text-align: right;\n",
       "    }\n",
       "</style>\n",
       "<table border=\"1\" class=\"dataframe\">\n",
       "  <thead>\n",
       "    <tr style=\"text-align: right;\">\n",
       "      <th></th>\n",
       "      <th>0</th>\n",
       "      <th>1</th>\n",
       "      <th>2</th>\n",
       "      <th>3</th>\n",
       "      <th>4</th>\n",
       "      <th>5</th>\n",
       "      <th>6</th>\n",
       "      <th>7</th>\n",
       "      <th>8</th>\n",
       "      <th>9</th>\n",
       "      <th>10</th>\n",
       "      <th>11</th>\n",
       "    </tr>\n",
       "  </thead>\n",
       "  <tbody>\n",
       "    <tr>\n",
       "      <th>0</th>\n",
       "      <td>m64076_230318_142517/329266/ccs</td>\n",
       "      <td>0</td>\n",
       "      <td>4871</td>\n",
       "      <td>m64076_230318_142517/329266/ccs</td>\n",
       "      <td>43</td>\n",
       "      <td>+</td>\n",
       "      <td>0</td>\n",
       "      <td>4871</td>\n",
       "      <td>128,0,128</td>\n",
       "      <td>1295</td>\n",
       "      <td>0,1,1,1,1,1,1,1,1,1,1,1,1,1,1,1,1,1,1,1,1,1,1,...</td>\n",
       "      <td>0,7,8,12,13,15,19,21,27,29,34,36,42,43,45,50,8...</td>\n",
       "    </tr>\n",
       "    <tr>\n",
       "      <th>1</th>\n",
       "      <td>m64076_230318_142517/1902814/ccs</td>\n",
       "      <td>0</td>\n",
       "      <td>4867</td>\n",
       "      <td>m64076_230318_142517/1902814/ccs</td>\n",
       "      <td>39</td>\n",
       "      <td>+</td>\n",
       "      <td>0</td>\n",
       "      <td>4867</td>\n",
       "      <td>128,0,128</td>\n",
       "      <td>834</td>\n",
       "      <td>0,1,1,1,1,1,1,1,1,1,1,1,1,1,1,1,1,1,1,1,1,1,1,...</td>\n",
       "      <td>0,13,25,27,31,33,35,39,42,44,45,46,54,55,58,60...</td>\n",
       "    </tr>\n",
       "    <tr>\n",
       "      <th>2</th>\n",
       "      <td>m64076_230318_142517/4458277/ccs</td>\n",
       "      <td>0</td>\n",
       "      <td>4874</td>\n",
       "      <td>m64076_230318_142517/4458277/ccs</td>\n",
       "      <td>31</td>\n",
       "      <td>+</td>\n",
       "      <td>0</td>\n",
       "      <td>4874</td>\n",
       "      <td>128,0,128</td>\n",
       "      <td>128</td>\n",
       "      <td>0,1,1,1,1,1,1,1,1,1,1,1,1,1,1,1,1,1,1,1,1,1,1,...</td>\n",
       "      <td>0,252,264,280,298,300,310,315,316,323,327,346,...</td>\n",
       "    </tr>\n",
       "    <tr>\n",
       "      <th>3</th>\n",
       "      <td>m64076_230318_142517/7538634/ccs</td>\n",
       "      <td>0</td>\n",
       "      <td>4875</td>\n",
       "      <td>m64076_230318_142517/7538634/ccs</td>\n",
       "      <td>13</td>\n",
       "      <td>+</td>\n",
       "      <td>0</td>\n",
       "      <td>4875</td>\n",
       "      <td>128,0,128</td>\n",
       "      <td>333</td>\n",
       "      <td>0,1,1,1,1,1,1,1,1,1,1,1,1,1,1,1,1,1,1,1,1,1,1,...</td>\n",
       "      <td>0,49,91,197,340,342,350,353,360,366,368,537,56...</td>\n",
       "    </tr>\n",
       "    <tr>\n",
       "      <th>4</th>\n",
       "      <td>m64076_230318_142517/8522107/ccs</td>\n",
       "      <td>0</td>\n",
       "      <td>4868</td>\n",
       "      <td>m64076_230318_142517/8522107/ccs</td>\n",
       "      <td>15</td>\n",
       "      <td>+</td>\n",
       "      <td>0</td>\n",
       "      <td>4868</td>\n",
       "      <td>128,0,128</td>\n",
       "      <td>671</td>\n",
       "      <td>0,1,1,1,1,1,1,1,1,1,1,1,1,1,1,1,1,1,1,1,1,1,1,...</td>\n",
       "      <td>0,9,11,12,14,16,17,19,20,26,28,34,35,36,37,38,...</td>\n",
       "    </tr>\n",
       "    <tr>\n",
       "      <th>...</th>\n",
       "      <td>...</td>\n",
       "      <td>...</td>\n",
       "      <td>...</td>\n",
       "      <td>...</td>\n",
       "      <td>...</td>\n",
       "      <td>...</td>\n",
       "      <td>...</td>\n",
       "      <td>...</td>\n",
       "      <td>...</td>\n",
       "      <td>...</td>\n",
       "      <td>...</td>\n",
       "      <td>...</td>\n",
       "    </tr>\n",
       "    <tr>\n",
       "      <th>16769</th>\n",
       "      <td>m64076_230318_142517/52233461/ccs</td>\n",
       "      <td>0</td>\n",
       "      <td>4849</td>\n",
       "      <td>m64076_230318_142517/52233461/ccs</td>\n",
       "      <td>15</td>\n",
       "      <td>-</td>\n",
       "      <td>0</td>\n",
       "      <td>4849</td>\n",
       "      <td>128,0,128</td>\n",
       "      <td>957</td>\n",
       "      <td>0,1,1,1,1,1,1,1,1,1,1,1,1,1,1,1,1,1,1,1,1,1,1,...</td>\n",
       "      <td>0,7,10,14,17,19,22,23,24,29,31,34,35,36,43,45,...</td>\n",
       "    </tr>\n",
       "    <tr>\n",
       "      <th>16770</th>\n",
       "      <td>m64076_230318_142517/133562752/ccs</td>\n",
       "      <td>0</td>\n",
       "      <td>4836</td>\n",
       "      <td>m64076_230318_142517/133562752/ccs</td>\n",
       "      <td>27</td>\n",
       "      <td>+</td>\n",
       "      <td>0</td>\n",
       "      <td>4836</td>\n",
       "      <td>128,0,128</td>\n",
       "      <td>1070</td>\n",
       "      <td>0,1,1,1,1,1,1,1,1,1,1,1,1,1,1,1,1,1,1,1,1,1,1,...</td>\n",
       "      <td>0,7,8,15,19,24,25,29,35,37,39,41,42,46,50,59,6...</td>\n",
       "    </tr>\n",
       "    <tr>\n",
       "      <th>16771</th>\n",
       "      <td>m64076_230318_142517/143656731/ccs</td>\n",
       "      <td>0</td>\n",
       "      <td>4873</td>\n",
       "      <td>m64076_230318_142517/143656731/ccs</td>\n",
       "      <td>31</td>\n",
       "      <td>-</td>\n",
       "      <td>0</td>\n",
       "      <td>4873</td>\n",
       "      <td>128,0,128</td>\n",
       "      <td>972</td>\n",
       "      <td>0,1,1,1,1,1,1,1,1,1,1,1,1,1,1,1,1,1,1,1,1,1,1,...</td>\n",
       "      <td>0,7,9,11,14,16,18,20,21,23,27,32,36,38,39,41,4...</td>\n",
       "    </tr>\n",
       "    <tr>\n",
       "      <th>16772</th>\n",
       "      <td>m64076_230318_142517/157485688/ccs</td>\n",
       "      <td>0</td>\n",
       "      <td>4846</td>\n",
       "      <td>m64076_230318_142517/157485688/ccs</td>\n",
       "      <td>15</td>\n",
       "      <td>-</td>\n",
       "      <td>0</td>\n",
       "      <td>4846</td>\n",
       "      <td>128,0,128</td>\n",
       "      <td>1044</td>\n",
       "      <td>0,1,1,1,1,1,1,1,1,1,1,1,1,1,1,1,1,1,1,1,1,1,1,...</td>\n",
       "      <td>0,55,95,97,99,103,106,109,112,115,121,128,129,...</td>\n",
       "    </tr>\n",
       "    <tr>\n",
       "      <th>16773</th>\n",
       "      <td>m64076_230318_142517/154994860/ccs</td>\n",
       "      <td>0</td>\n",
       "      <td>4869</td>\n",
       "      <td>m64076_230318_142517/154994860/ccs</td>\n",
       "      <td>57</td>\n",
       "      <td>-</td>\n",
       "      <td>0</td>\n",
       "      <td>4869</td>\n",
       "      <td>128,0,128</td>\n",
       "      <td>233</td>\n",
       "      <td>0,1,1,1,1,1,1,1,1,1,1,1,1,1,1,1,1,1,1,1,1,1,1,...</td>\n",
       "      <td>0,11,12,20,24,28,30,40,48,52,53,63,68,373,381,...</td>\n",
       "    </tr>\n",
       "  </tbody>\n",
       "</table>\n",
       "<p>16774 rows × 12 columns</p>\n",
       "</div>"
      ],
      "text/plain": [
       "                                       0   1     2   \\\n",
       "0         m64076_230318_142517/329266/ccs   0  4871   \n",
       "1        m64076_230318_142517/1902814/ccs   0  4867   \n",
       "2        m64076_230318_142517/4458277/ccs   0  4874   \n",
       "3        m64076_230318_142517/7538634/ccs   0  4875   \n",
       "4        m64076_230318_142517/8522107/ccs   0  4868   \n",
       "...                                   ...  ..   ...   \n",
       "16769   m64076_230318_142517/52233461/ccs   0  4849   \n",
       "16770  m64076_230318_142517/133562752/ccs   0  4836   \n",
       "16771  m64076_230318_142517/143656731/ccs   0  4873   \n",
       "16772  m64076_230318_142517/157485688/ccs   0  4846   \n",
       "16773  m64076_230318_142517/154994860/ccs   0  4869   \n",
       "\n",
       "                                       3   4  5   6     7          8     9   \\\n",
       "0         m64076_230318_142517/329266/ccs  43  +   0  4871  128,0,128  1295   \n",
       "1        m64076_230318_142517/1902814/ccs  39  +   0  4867  128,0,128   834   \n",
       "2        m64076_230318_142517/4458277/ccs  31  +   0  4874  128,0,128   128   \n",
       "3        m64076_230318_142517/7538634/ccs  13  +   0  4875  128,0,128   333   \n",
       "4        m64076_230318_142517/8522107/ccs  15  +   0  4868  128,0,128   671   \n",
       "...                                   ...  .. ..  ..   ...        ...   ...   \n",
       "16769   m64076_230318_142517/52233461/ccs  15  -   0  4849  128,0,128   957   \n",
       "16770  m64076_230318_142517/133562752/ccs  27  +   0  4836  128,0,128  1070   \n",
       "16771  m64076_230318_142517/143656731/ccs  31  -   0  4873  128,0,128   972   \n",
       "16772  m64076_230318_142517/157485688/ccs  15  -   0  4846  128,0,128  1044   \n",
       "16773  m64076_230318_142517/154994860/ccs  57  -   0  4869  128,0,128   233   \n",
       "\n",
       "                                                      10  \\\n",
       "0      0,1,1,1,1,1,1,1,1,1,1,1,1,1,1,1,1,1,1,1,1,1,1,...   \n",
       "1      0,1,1,1,1,1,1,1,1,1,1,1,1,1,1,1,1,1,1,1,1,1,1,...   \n",
       "2      0,1,1,1,1,1,1,1,1,1,1,1,1,1,1,1,1,1,1,1,1,1,1,...   \n",
       "3      0,1,1,1,1,1,1,1,1,1,1,1,1,1,1,1,1,1,1,1,1,1,1,...   \n",
       "4      0,1,1,1,1,1,1,1,1,1,1,1,1,1,1,1,1,1,1,1,1,1,1,...   \n",
       "...                                                  ...   \n",
       "16769  0,1,1,1,1,1,1,1,1,1,1,1,1,1,1,1,1,1,1,1,1,1,1,...   \n",
       "16770  0,1,1,1,1,1,1,1,1,1,1,1,1,1,1,1,1,1,1,1,1,1,1,...   \n",
       "16771  0,1,1,1,1,1,1,1,1,1,1,1,1,1,1,1,1,1,1,1,1,1,1,...   \n",
       "16772  0,1,1,1,1,1,1,1,1,1,1,1,1,1,1,1,1,1,1,1,1,1,1,...   \n",
       "16773  0,1,1,1,1,1,1,1,1,1,1,1,1,1,1,1,1,1,1,1,1,1,1,...   \n",
       "\n",
       "                                                      11  \n",
       "0      0,7,8,12,13,15,19,21,27,29,34,36,42,43,45,50,8...  \n",
       "1      0,13,25,27,31,33,35,39,42,44,45,46,54,55,58,60...  \n",
       "2      0,252,264,280,298,300,310,315,316,323,327,346,...  \n",
       "3      0,49,91,197,340,342,350,353,360,366,368,537,56...  \n",
       "4      0,9,11,12,14,16,17,19,20,26,28,34,35,36,37,38,...  \n",
       "...                                                  ...  \n",
       "16769  0,7,10,14,17,19,22,23,24,29,31,34,35,36,43,45,...  \n",
       "16770  0,7,8,15,19,24,25,29,35,37,39,41,42,46,50,59,6...  \n",
       "16771  0,7,9,11,14,16,18,20,21,23,27,32,36,38,39,41,4...  \n",
       "16772  0,55,95,97,99,103,106,109,112,115,121,128,129,...  \n",
       "16773  0,11,12,20,24,28,30,40,48,52,53,63,68,373,381,...  \n",
       "\n",
       "[16774 rows x 12 columns]"
      ]
     },
     "execution_count": 10,
     "metadata": {},
     "output_type": "execute_result"
    }
   ],
   "source": [
    "m6a_df"
   ]
  },
  {
   "cell_type": "code",
   "execution_count": 11,
   "metadata": {},
   "outputs": [
    {
     "name": "stdout",
     "output_type": "stream",
     "text": [
      "405.63552910785126\n"
     ]
    },
    {
     "data": {
      "text/plain": [
       "<AxesSubplot:>"
      ]
     },
     "execution_count": 11,
     "metadata": {},
     "output_type": "execute_result"
    },
    {
     "data": {
      "image/png": "[encoded data removed]",
      "text/plain": [
       "<Figure size 432x288 with 1 Axes>"
      ]
     },
     "metadata": {
      "needs_background": "light"
     },
     "output_type": "display_data"
    }
   ],
   "source": [
    "# m6a mean from all bed file\n",
    "all_m6a_df = all_df[[\"m6a\"]]\n",
    "all_m6a_df\n",
    "all_m6a_df = all_m6a_df.assign(m6a_count=all_m6a_df[\"m6a\"].str.split(\",\").str.len())\n",
    "print(all_m6a_df[\"m6a_count\"].mean())\n",
    "all_m6a_df[\"m6a_count\"].hist(bins=50)"
   ]
  },
  {
   "cell_type": "code",
   "execution_count": 27,
   "metadata": {},
   "outputs": [
    {
     "name": "stdout",
     "output_type": "stream",
     "text": [
      "minimum methylation = 127\n",
      "maximum methylation = 831\n"
     ]
    }
   ],
   "source": [
    "#m6a mean from m6a bed file\n",
    "m6a_df = m6a_df.rename(columns={11: \"m6a\"})\n",
    "m6a_df = m6a_df.assign(m6a_count=m6a_df[\"m6a\"].str.split(\",\").str.len() - 2)\n",
    "\n",
    "# calculate the 12.5th and 87.5th quantiles of the m6a_counts column\n",
    "q1 = m6a_df['m6a_count'].quantile(0.25)\n",
    "q2 = m6a_df['m6a_count'].quantile(0.875)\n",
    "\n",
    "# print(q1)\n",
    "# print(q2)\n",
    "\n",
    "# filter the dataframe to remove the top and bottom 12.5% of values in the m6a_counts column\n",
    "df_filtered = m6a_df.loc[(m6a_df['m6a_count'] >= q1) & (m6a_df['m6a_count'] <= q2)]\n",
    "print(f'minimum methylation = {df_filtered[\"m6a_count\"].min()}')\n",
    "print(f'maximum methylation = {df_filtered[\"m6a_count\"].max()}')\n",
    "\n",
    "# view the filtered dataframe\n",
    "df_filtered = df_filtered.drop(columns=[\"m6a_count\"])\n",
    "df_filtered.rename(columns={\"m6a\": 11}, inplace=True)\n",
    "\n",
    "\n",
    "\n",
    "# Define the output file name\n",
    "output_file = \"/gscratch/stergachislab/bmallo/large_home/hmm-footprint-caller/HepG2_48h_nuclei/Infiles/bed/nucleosomes_10-25_methylation_127-831.m6a.bed\"\n",
    "\n",
    "# Write the filtered dataframe to a BED12 file format\n",
    "df_filtered.to_csv(output_file, sep=\"\\t\", index=False, header=False)"
   ]
  },
  {
   "cell_type": "code",
   "execution_count": 4,
   "metadata": {},
   "outputs": [
    {
     "data": {
      "text/html": [
       "<div>\n",
       "<style scoped>\n",
       "    .dataframe tbody tr th:only-of-type {\n",
       "        vertical-align: middle;\n",
       "    }\n",
       "\n",
       "    .dataframe tbody tr th {\n",
       "        vertical-align: top;\n",
       "    }\n",
       "\n",
       "    .dataframe thead th {\n",
       "        text-align: right;\n",
       "    }\n",
       "</style>\n",
       "<table border=\"1\" class=\"dataframe\">\n",
       "  <thead>\n",
       "    <tr style=\"text-align: right;\">\n",
       "      <th></th>\n",
       "      <th>chrom</th>\n",
       "      <th>start</th>\n",
       "      <th>end</th>\n",
       "      <th>rid</th>\n",
       "    </tr>\n",
       "  </thead>\n",
       "  <tbody>\n",
       "  </tbody>\n",
       "</table>\n",
       "</div>"
      ],
      "text/plain": [
       "Empty DataFrame\n",
       "Columns: [chrom, start, end, rid]\n",
       "Index: []"
      ]
     },
     "execution_count": 4,
     "metadata": {},
     "output_type": "execute_result"
    }
   ],
   "source": [
    " read_info = pd.read_parquet('/gscratch/stergachislab/bmallo/large_home/hmm-footprint-caller/HepG2_48h_nuclei/Infiles/parquet/KO_LeaGFP_HepG2_48h_nuclei.4800_4900bp_plasmid.fiberseq.m6a/KO_LeaGFP_HepG2_48h_nuclei.4800_4900bp_plasmid.fiberseq.m6a_read-info.pq')\n",
    "read_info"
   ]
  },
  {
   "cell_type": "code",
   "execution_count": 85,
   "metadata": {},
   "outputs": [
    {
     "name": "stdout",
     "output_type": "stream",
     "text": [
      "580.2660377358491\n"
     ]
    },
    {
     "data": {
      "text/plain": [
       "<AxesSubplot:>"
      ]
     },
     "execution_count": 85,
     "metadata": {},
     "output_type": "execute_result"
    },
    {
     "data": {
      "image/png": "[encoded data removed]",
      "text/plain": [
       "<Figure size 432x288 with 1 Axes>"
      ]
     },
     "metadata": {
      "needs_background": "light"
     },
     "output_type": "display_data"
    }
   ],
   "source": [
    "#m6a mean from 8 nucleosome reads\n",
    "\n",
    "eight_nuc_df = pd.read_csv(\"/gscratch/stergachislab/bmallo/large_home/fiberseq-smk/results/Plasmid_Time_Course/70_bp_nuc_snakemake/HepG2/KO_LeaGFP_HepG2_48h_nuclei/nucleosome_filtered_plasmid_reads/HepG2_48h_nuclei_8_nucleosome_reads.m6a.bed\", sep=\"\\t\", header=None)\n",
    "eight_nuc_df = eight_nuc_df.rename(columns={11: \"m6a\"})\n",
    "eight_nuc_df = eight_nuc_df[[\"m6a\"]]\n",
    "eight_nuc_df = eight_nuc_df.assign(m6a_count=eight_nuc_df[\"m6a\"].str.split(\",\").str.len() - 2)\n",
    "#eight_nuc_df = eight_nuc_df[eight_nuc_df[\"m6a_count\"] < 200]\n",
    "eight_nuc_df\n",
    "print(eight_nuc_df[\"m6a_count\"].mean())\n",
    "eight_nuc_df[\"m6a_count\"].hist(bins=50, grid=False)"
   ]
  },
  {
   "cell_type": "code",
   "execution_count": 60,
   "metadata": {},
   "outputs": [],
   "source": [
    "#m6a mean from 23 nucleosome reads\n",
    "\n",
    "twentyfive_nuc_df = pd.read_csv(\"/gscratch/stergachislab/bmallo/large_home/fiberseq-smk/results/Plasmid_Time_Course/70_bp_nuc_snakemake/HepG2/KO_LeaGFP_HepG2_48h_nuclei/nucleosome_filtered_plasmid_reads/HepG2_48h_nuclei_25_nucleosome_reads.m6a.bed\", sep=\"\\t\", header=None)\n",
    "\n"
   ]
  },
  {
   "cell_type": "code",
   "execution_count": 37,
   "metadata": {},
   "outputs": [],
   "source": [
    "input_bamfile = \"/gscratch/stergachislab/bmallo/large_home/fiberseq-smk/results/Plasmid_Time_Course/70_bp_nuc_snakemake/HepG2/KO_LeaGFP_HepG2_48h_nuclei/KO_LeaGFP_HepG2_48h_nuclei.fiberseq.bam\"\n",
    "\n",
    "ref_name = \"linear_LeaGFP\"\n",
    "min_read_length = 4800\n",
    "max_read_length = 4900\n",
    "\n",
    "ns_list = []\n",
    "\n",
    "with pysam.AlignmentFile(input_bamfile, \"rb\") as bamfile:\n",
    "\n",
    "        for read in bamfile.fetch(ref_name):\n",
    "            ns_count = len(list(read.get_tag(\"ns\")))\n",
    "            ns_list.append(ns_count)"
   ]
  }
 ],
 "metadata": {
  "kernelspec": {
   "display_name": "general",
   "language": "python",
   "name": "python3"
  },
  "language_info": {
   "codemirror_mode": {
    "name": "ipython",
    "version": 3
   },
   "file_extension": ".py",
   "mimetype": "text/x-python",
   "name": "python",
   "nbconvert_exporter": "python",
   "pygments_lexer": "ipython3",
   "version": "3.9.13"
  },
  "orig_nbformat": 4
 },
 "nbformat": 4,
 "nbformat_minor": 2
}
