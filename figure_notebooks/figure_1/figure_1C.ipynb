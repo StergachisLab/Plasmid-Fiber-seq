{
 "cells": [
  {
   "cell_type": "code",
   "execution_count": 1,
   "metadata": {},
   "outputs": [],
   "source": [
    "import os\n",
    "import sys\n",
    "import subprocess\n",
    "import random\n",
    "import pyft\n",
    "import pandas as pd\n",
    "import seaborn as sns\n",
    "import altair as alt\n",
    "import altair_saver\n",
    "import matplotlib as plt\n",
    "from brokenaxes import brokenaxes\n",
    "from collections import Counter\n",
    "from statistics import mean, median, mode\n",
    "sys.path.append('/gscratch/stergachislab/bmallo/large_home/python_scripts/')\n",
    "from pyft_analysis import get_nuc_lengths, get_nuc_lengths_by_nuc_count, get_npr, get_read_lengths, get_percent_methylated"
   ]
  },
  {
   "cell_type": "markdown",
   "metadata": {},
   "source": [
    "### Import data"
   ]
  },
  {
   "cell_type": "code",
   "execution_count": 2,
   "metadata": {},
   "outputs": [],
   "source": [
    "# Raw methylated_bam is non-transfected pEF-GFP that was Fiber-seq'd with no m6a or length filters applied (x reads)\n",
    "raw_methylated_bam = '/gscratch/stergachislab/bmallo/large_home/ft_data/plasmid_fiberseq/non_transfected_plasmid_controls/methylated_pEF-GFP/plasmid_bams_processed/pEFGFP/all_pEF-GFP_reads.bam'\n",
    "\n",
    "# Methylated_bam is non-transfected pEF-GFP that was Fiber-seq'd (228,840 reads)\n",
    "methylated_bam = '/gscratch/stergachislab/bmallo/large_home/ft_data/plasmid_fiberseq/non_transfected_plasmid_controls/methylated_pEF-GFP/plasmid_bams_processed/pEFGFP/pEFGFP_no_m6a_filter_50_range_exact_reads.bam'\n",
    "\n",
    "# non_methylated_bam is non-transfected pEF-GFP that was not Fiber-seq'd. AKA this is pEF-GFP from ER2796 (465,973 reads)\n",
    "non_methylated_bam = '/gscratch/stergachislab/bmallo/large_home/ft_data/plasmid_fiberseq/non_transfected_plasmid_controls/non_methylated_pEF-GFP/plasmid_bams_processed/pEFGFP/pEFGFP_no_m6a_filter_50_range_exact_reads.bam'   \n",
    "\n",
    "# raw_pEF-GFP_Hek293 is transfected pEF-GFP that was Fiber-seq'd with no m6a or length filters applied (804,348 reads)\n",
    "raw_pEF_GFP_Hek293 = '/gscratch/stergachislab/bmallo/large_home/ft_data/plasmid_fiberseq/pEF_GFP_Gus/rep_3/plasmid_bams_processed/pEFGFP/all_pEF-GFP_reads.bam'\n",
    "\n",
    "# pEF-GFP_Hek293 is transfected pEF-GFP that was Fiber-seq'd (605,984 reads)\n",
    "pEF_GFP_Hek293 = '/gscratch/stergachislab/bmallo/large_home/ft_data/plasmid_fiberseq/pEF_GFP_Gus/rep_3/plasmid_bams_processed/pEFGFP/pEFGFP_no_m6a_filter_50_range_exact_read.bam'\n",
    "\n",
    "# Also want to compare how the m6a filter changes percent m6a and NPR. Can't filter unmethylated reads. (methylated = 226,245 reads, pEF-GFP_Hek293 = 382,759 reads)\n",
    "methylated_bam_m6a_filtered = '/gscratch/stergachislab/bmallo/large_home/ft_data/plasmid_fiberseq/non_transfected_plasmid_controls/methylated_pEF-GFP/plasmid_bams_processed/pEFGFP/pEFGFP_50_range_exact_reads.bam'\n",
    "pEF_GFP_Hek293_bam_m6a_filtered = '/gscratch/stergachislab/bmallo/large_home/ft_data/plasmid_fiberseq/pEF_GFP_Gus/rep_3/plasmid_bams_processed/pEFGFP/pEFGFP_50_range_exact_aligned.bam'"
   ]
  },
  {
   "cell_type": "code",
   "execution_count": 8,
   "metadata": {},
   "outputs": [],
   "source": [
    "# untransfected \n",
    "untransfected_all_reads = '/gscratch/stergachislab/bmallo/large_home/ft_data/plasmid_fiberseq/non_transfected_plasmid_controls/methylated_pEF-GFP/plasmid_bams_processed/pEFGFP/all_pEF-GFP_reads.bam'\n",
    "untransfected_length_filtered = '/gscratch/stergachislab/bmallo/large_home/ft_data/plasmid_fiberseq/non_transfected_plasmid_controls/methylated_pEF-GFP/plasmid_bams_processed/pEFGFP/pEFGFP_no_m6a_filter_50_range_exact_reads.bam'\n",
    "untransfected_length_m6a_filtered = '/gscratch/stergachislab/bmallo/large_home/ft_data/plasmid_fiberseq/non_transfected_plasmid_controls/methylated_pEF-GFP/plasmid_bams_processed/pEFGFP/pEFGFP_50_range_exact_reads.bam'\n",
    "\n",
    "# transfected\n",
    "transfected_all_reads = '/gscratch/stergachislab/bmallo/large_home/ft_data/plasmid_fiberseq/pEF_GFP_Gus/rep_3/plasmid_bams_processed/pEFGFP/subsampled_all_pEF-GFP_reads.bam'\n",
    "transfected_length_filtered = '/gscratch/stergachislab/bmallo/large_home/ft_data/plasmid_fiberseq/pEF_GFP_Gus/rep_3/plasmid_bams_processed/pEFGFP/subsample_no_m6a_filter_50_range_exact_read.bam'\n",
    "transfected_length_m6a_filtered= '/gscratch/stergachislab/bmallo/large_home/ft_data/plasmid_fiberseq/pEF_GFP_Gus/rep_3/plasmid_bams_processed/pEFGFP/subsample_lenght_m6a_filtered.bam'"
   ]
  },
  {
   "cell_type": "markdown",
   "metadata": {},
   "source": [
    "### Helper Functions"
   ]
  },
  {
   "cell_type": "code",
   "execution_count": 3,
   "metadata": {},
   "outputs": [],
   "source": [
    "def get_total_reads(input_bam):\n",
    "    # Use samtools to get total read count\n",
    "    cmd = [\"samtools\", \"view\", \"-c\", input_bam]\n",
    "    total_reads = int(subprocess.check_output(cmd).strip())\n",
    "    return total_reads\n",
    "\n",
    "def analyze_bam(input_bam, analysis_module):\n",
    "    \"\"\" \n",
    "    Runs the provided analysis module on a BAM file.\n",
    "\n",
    "    Args:\n",
    "        input_bam (str): Full path to the input BAM file.\n",
    "        analysis_module (function): A function that will perform analysis on the BAM file. \n",
    "                                    Example: `get_nuc_lengths` from `pyft_analysis`.\n",
    "    \"\"\"   \n",
    "\n",
    "    # Read in input_bam as pyft fiberbam object\n",
    "    fiberbam = pyft.Fiberbam(input_bam)\n",
    "\n",
    "    # Run analysis module on bam file\n",
    "    result = analysis_module(fiberbam)\n",
    "\n",
    "    return result\n",
    "\n",
    "def analyze_subsampled_bam(input_bam, analysis_module, num_reads=None, iterations=1, output_dir=\"/tmp\"):\n",
    "\n",
    "    \"\"\" \n",
    "    Subsamples a BAM file and runs the provided analysis module on each subsample.\n",
    "\n",
    "    Args:\n",
    "        input_bam (str): Full path to the input BAM file.\n",
    "        analysis_module (function): A function that will perform analysis on each subsampled BAM file. \n",
    "                                    Example: `get_nuc_lengths` from `pyft_analysis`.\n",
    "        num_reads (int or None): The number of reads to subsample from the input BAM file in each iteration. Default is None which results \n",
    "                                  in all reads being used in a single iteration.\n",
    "        iterations (int or None): The number of iterations to perform. In each iteration, a new subsample will be taken. Default is 1.\n",
    "        output_dir (str): The directory to store temporary BAM files. Default is \"/tmp\".\n",
    "\n",
    "    Notes:\n",
    "        If you care about read length, it's probably easiest to start with a length filtered bam file.\n",
    "    \"\"\"   \n",
    "\n",
    "    # Get fraction corresponding to num_reads\n",
    "    fraction = (num_reads / get_total_reads(input_bam))\n",
    "    fraction = (str(fraction).split(\".\")[1])\n",
    "    print(fraction)\n",
    "\n",
    "    # Initialize a dictionary to store module outputs\n",
    "    results_dict = {}\n",
    "\n",
    "    for i in range(iterations):\n",
    "        # Generate a unique random seed for subsampling\n",
    "        random_seed = i + 1\n",
    "\n",
    "        # Define a path for the temporary BAM file \n",
    "        temp_bam_path = os.path.join(output_dir, f\"temp_subsample_{i}.bam\")\n",
    "\n",
    "        # Call samtools to subsample reads\n",
    "        cmd = [\n",
    "            \"samtools\", \"view\", \"-s\", f\"{random_seed}.{fraction}\", \"-b\", input_bam, \"-o\", temp_bam_path\n",
    "        ]\n",
    "\n",
    "        print(cmd)\n",
    "        subprocess.run(cmd, check=True)\n",
    "\n",
    "        # Index the temporary BAM file\n",
    "        subprocess.run([\"samtools\", \"index\", temp_bam_path], check=True)\n",
    "\n",
    "        # Read in temp_bam as pyft fiberbam object\n",
    "        fiberbam = pyft.Fiberbam(temp_bam_path)\n",
    "\n",
    "        # Run analysis module on bam file\n",
    "        result = analysis_module(fiberbam)\n",
    "        results_dict[i] = result\n",
    "\n",
    "        # Remove temporary BAM file\n",
    "        if os.path.exists(temp_bam_path):\n",
    "            os.remove(temp_bam_path)\n",
    "        if os.path.exists(f\"{temp_bam_path}.bai\"):\n",
    "            os.remove(f\"{temp_bam_path}.bai\")\n",
    "\n",
    "    return results_dict"
   ]
  },
  {
   "cell_type": "markdown",
   "metadata": {},
   "source": [
    "### get m6a data"
   ]
  },
  {
   "cell_type": "code",
   "execution_count": 9,
   "metadata": {},
   "outputs": [],
   "source": [
    "untransfected_all_reads_m6a = analyze_bam(untransfected_all_reads, get_percent_methylated)\n",
    "untransfected_length_filtered_m6a = analyze_bam(untransfected_length_filtered, get_percent_methylated)\n",
    "untransfected_length_m6a_filtered_m6a = analyze_bam(untransfected_length_m6a_filtered, get_percent_methylated)\n",
    "transfected_all_reads_m6a = analyze_bam(transfected_all_reads, get_percent_methylated)\n",
    "transfected_length_filtered_m6a = analyze_bam(transfected_length_filtered, get_percent_methylated)\n",
    "transfected_length_m6a_filtered_m6a = analyze_bam(transfected_length_m6a_filtered, get_percent_methylated)"
   ]
  },
  {
   "cell_type": "code",
   "execution_count": 6,
   "metadata": {},
   "outputs": [
    {
     "name": "stdout",
     "output_type": "stream",
     "text": [
      "0\n",
      "['samtools', 'view', '-s', '1.0', '-b', '/gscratch/stergachislab/bmallo/large_home/ft_data/plasmid_fiberseq/non_transfected_plasmid_controls/methylated_pEF-GFP/plasmid_bams_processed/pEFGFP/all_pEF-GFP_reads.bam', '-o', '/tmp/temp_subsample_0.bam']\n",
      "3788633775430535\n",
      "['samtools', 'view', '-s', '1.3788633775430535', '-b', '/gscratch/stergachislab/bmallo/large_home/ft_data/plasmid_fiberseq/pEF_GFP_Gus/rep_3/plasmid_bams_processed/pEFGFP/all_pEF-GFP_reads.bam', '-o', '/tmp/temp_subsample_0.bam']\n"
     ]
    }
   ],
   "source": [
    "# Get percent methlation of reads from each sample, normalizing for the smallest number of reads (226,245 reads)\n",
    "# non_methylated_m6a = analyze_subsampled_bam(non_methylated_bam, get_percent_methylated, num_reads=226245)\n",
    "raw_methylated_m6a = analyze_subsampled_bam(raw_methylated_bam, get_percent_methylated, num_reads=304738)\n",
    "# methylated_m6a = analyze_subsampled_bam(methylated_bam, get_percent_methylated, num_reads=226245)\n",
    "# methylated_m6a_filtered = analyze_subsampled_bam(methylated_bam_m6a_filtered, get_percent_methylated, num_reads=226245)\n",
    "raw_pEF_GFP_Hek293_m6a = analyze_subsampled_bam(raw_pEF_GFP_Hek293, get_percent_methylated, num_reads=304738)\n",
    "# pEF_GFP_Hek293_m6a = analyze_subsampled_bam(pEF_GFP_Hek293, get_percent_methylated, num_reads=226245)\n",
    "# pEF_GFP_Hek293_m6a_filtered = analyze_subsampled_bam(pEF_GFP_Hek293_bam_m6a_filtered, get_percent_methylated, num_reads=226245)"
   ]
  },
  {
   "cell_type": "code",
   "execution_count": null,
   "metadata": {},
   "outputs": [],
   "source": [
    "# Samtools subsampling does not get exact number of reads, so I am truncating the list to the length of the smallest sample\n",
    "# len(non_methylated_m6a[0]), len(methylated_m6a[0]), len(methylated_m6a_filtered[0]), len(pEF_GFP_Hek293_m6a[0]), len(pEF_GFP_Hek293_m6a_filtered[0])\n",
    "# non_methylated_m6a[0] = non_methylated_m6a[0][:226245]\n",
    "raw_methylated_m6a[0] = raw_methylated_m6a[0][:304738]\n",
    "# methylated_m6a[0] = methylated_m6a[0][:226245]\n",
    "# methylated_m6a_filtered[0] = methylated_m6a_filtered[0][:226245]\n",
    "raw_pEF_GFP_Hek293_m6a[0] = raw_pEF_GFP_Hek293_m6a[0][:304738]\n",
    "# pEF_GFP_Hek293_m6a[0] = pEF_GFP_Hek293_m6a[0][:226245]\n",
    "# pEF_GFP_Hek293_m6a_filtered[0] = pEF_GFP_Hek293_m6a_filtered[0][:226245]"
   ]
  },
  {
   "cell_type": "markdown",
   "metadata": {},
   "source": [
    "#### get read length data"
   ]
  },
  {
   "cell_type": "code",
   "execution_count": 10,
   "metadata": {},
   "outputs": [
    {
     "name": "stdout",
     "output_type": "stream",
     "text": [
      "read_count = 304738 mean = 4675 median = 5057.0 mode = 5058\n",
      "read_count = 228840 mean = 5057 median = 5058.0 mode = 5058\n",
      "read_count = 226245 mean = 5057 median = 5058 mode = 5058\n",
      "read_count = 305645 mean = 4873 median = 5058 mode = 5058\n",
      "read_count = 252765 mean = 5057 median = 5058 mode = 5058\n",
      "read_count = 160317 mean = 5057 median = 5058 mode = 5058\n"
     ]
    }
   ],
   "source": [
    "untransfected_all_reads_read_lengths = analyze_bam(untransfected_all_reads, get_read_lengths)\n",
    "untransfected_length_filtered_read_lengths = analyze_bam(untransfected_length_filtered, get_read_lengths)\n",
    "untransfected_length_m6a_filtered_read_lengths = analyze_bam(untransfected_length_m6a_filtered, get_read_lengths)\n",
    "transfected_all_reads_read_lengths = analyze_bam(transfected_all_reads, get_read_lengths)\n",
    "transfected_length_filtered_read_lengths = analyze_bam(transfected_length_filtered, get_read_lengths)\n",
    "transfected_length_m6a_filtered_read_lengths = analyze_bam(transfected_length_m6a_filtered, get_read_lengths)"
   ]
  },
  {
   "cell_type": "code",
   "execution_count": 71,
   "metadata": {},
   "outputs": [
    {
     "data": {
      "image/png": "[encoded data removed]",
      "text/plain": [
       "<Figure size 1000x600 with 1 Axes>"
      ]
     },
     "metadata": {},
     "output_type": "display_data"
    }
   ],
   "source": [
    "from matplotlib.ticker import FuncFormatter\n",
    "\n",
    "# Define the bins for the histogram\n",
    "# bins = range(0, 1, 100)  # Adjust as needed for your data\n",
    "\n",
    "# Create the broken y-axis\n",
    "fig, ax = plt.subplots(figsize=(10, 6))\n",
    "\n",
    "# Plot the histograms for each sample\n",
    "# Use the same bins for both histograms to ensure alignment\n",
    "bins = 100\n",
    "range_min = min(min(untransfected_all_reads_m6a), min(transfected_all_reads_m6a))\n",
    "range_max = max(max(untransfected_all_reads_m6a), max(transfected_all_reads_m6a))\n",
    "bin_range = (range_min, range_max)\n",
    "\n",
    "ax.hist(untransfected_all_reads_m6a, bins=bins, range=bin_range, alpha=0.7, label='Untransfected', edgecolor='black', color='#1f77b4')\n",
    "ax.hist(transfected_all_reads_m6a, bins=bins, range=bin_range, alpha=0.5, label='Transfected', edgecolor='black', color='#ff7f0e')\n",
    "\n",
    "# Add legend\n",
    "ax.legend(title=\"Sample\")\n",
    "\n",
    "# Add labels and title\n",
    "ax.xaxis.set_major_formatter(FuncFormatter(lambda x, _: f'{x:.0%}'))\n",
    "ax.set_xlabel('Read Length')\n",
    "ax.set_ylabel('Read Count')\n",
    "ax.set_title('Histogram of Read Lengths: Untransfected vs Transfected')\n",
    "ax.set_ylim(0, 50000)\n",
    "ax.set_xlim(0, 1)\n",
    "ax.legend(title=\"Sample\")\n",
    "\n",
    "fig.savefig('/gscratch/stergachislab/bmallo/large_home/plasmid_fiberseq/paper_figures/figure_1/supplemental/all_reads_m6a.pdf')"
   ]
  },
  {
   "cell_type": "code",
   "execution_count": null,
   "metadata": {},
   "outputs": [],
   "source": [
    "# non_methylated_read_length = analyze_subsampled_bam(non_methylated_bam, get_read_lengths, num_reads=226245)\n",
    "raw_methylated_read_length = analyze_subsampled_bam(raw_methylated_bam, get_read_lengths, num_reads=226245)\n",
    "# methylated_read_length = analyze_subsampled_bam(methylated_bam, get_read_lengths, num_reads=226245)\n",
    "# methylated_read_length_filtered = analyze_subsampled_bam(methylated_bam_m6a_filtered, get_read_lengths, num_reads=226245)\n",
    "raw_pEF_GFP_Hek293_read_length = analyze_subsampled_bam(raw_pEF_GFP_Hek293, get_read_lengths, num_reads=226245)\n",
    "# pEF_GFP_Hek293_read_length = analyze_subsampled_bam(pEF_GFP_Hek293, get_read_lengths, num_reads=226245)\n",
    "# pEF_GFP_Hek293_read_length_filtered = analyze_subsampled_bam(pEF_GFP_Hek293_bam_m6a_filtered, get_read_lengths, num_reads=226245)"
   ]
  },
  {
   "cell_type": "code",
   "execution_count": 45,
   "metadata": {},
   "outputs": [],
   "source": [
    "non_methylated_read_length[0] = non_methylated_read_length[0][:226245]\n",
    "raw_methylated_read_length[0] = raw_methylated_read_length[0][:226245]\n",
    "methylated_read_length[0] = methylated_read_length[0][:226245]\n",
    "methylated_read_length_filtered[0] = methylated_read_length_filtered[0][:226245]\n",
    "raw_pEF_GFP_Hek293_read_length[0] = raw_pEF_GFP_Hek293_read_length[0][:226245]\n",
    "pEF_GFP_Hek293_read_length[0] = pEF_GFP_Hek293_read_length[0][:226245]\n",
    "pEF_GFP_Hek293_read_length_filtered[0] = pEF_GFP_Hek293_read_length_filtered[0][:226245]"
   ]
  },
  {
   "cell_type": "code",
   "execution_count": null,
   "metadata": {},
   "outputs": [],
   "source": [
    "# samples = ['non_methylated', 'raw_methylated', 'methylated', 'methylated_m6a_filtered', 'raw_pEF_GFP_Hek293','pEF_GFP_Hek293', 'pEF_GFP_Hek293_m6a_filtered']\n",
    "# data_dicts = [non_methylated_read_length, raw_methylated_read_length, methylated_read_length, methylated_read_length_filtered, raw_pEF_GFP_Hek293_read_length, pEF_GFP_Hek293_read_length, pEF_GFP_Hek293_read_length_filtered]\n",
    "\n",
    "samples = ['untransfected_all_reads', 'untransfected_length_filtered', 'untransfected_length_m6a_filtered',\n",
    "           'transfected_all_reads', 'transfected_length_filtered', 'transfected_length_m6a_filtered']\n",
    "data_dicts \n",
    "# Initialize an empty list to store the data\n",
    "data = []\n",
    "\n",
    "# Loop through each sample and its corresponding dictionary\n",
    "for sample, data_dict in zip(samples, data_dicts):\n",
    "    for key, values in data_dict.items():\n",
    "        for value in values:\n",
    "            data.append({'Sample': sample, 'read_length': value})\n",
    "\n",
    "# Convert the list of dictionaries to a pandas dataframe\n",
    "read_length_df = pd.DataFrame(data)"
   ]
  },
  {
   "cell_type": "code",
   "execution_count": null,
   "metadata": {},
   "outputs": [
    {
     "data": {
      "image/png": "[encoded data removed]",
      "text/plain": [
       "<Figure size 1000x600 with 1 Axes>"
      ]
     },
     "metadata": {},
     "output_type": "display_data"
    }
   ],
   "source": [
    "# Filter the data for the two samples to plot\n",
    "samples_to_plot = ['non_methylated', 'raw_methylated']\n",
    "read_length_df_filtered = read_length_df[read_length_df['Sample'].isin(samples_to_plot)]\n",
    "\n",
    "# Define the bins for the histogram\n",
    "bins = range(4950, 5150)  # Adjust the range and bin size as needed\n",
    "\n",
    "# Create the figure and axis\n",
    "fig, ax = plt.subplots(figsize=(10, 6))\n",
    "\n",
    "# Plot the histograms for each sample\n",
    "for sample in samples_to_plot:\n",
    "    sample_data = read_length_df_filtered[read_length_df_filtered['Sample'] == sample]['read_length']\n",
    "    ax.hist(sample_data, bins=bins, alpha=0.5, label=sample, edgecolor='black')\n",
    "\n",
    "# Add labels and title\n",
    "ax.set_xlabel('read_length')\n",
    "ax.set_ylabel('Read Count')\n",
    "ax.set_title('All_non_transfected_reads vs All Transfected Reads')\n",
    "ax.set_xlim(4950, 5150)  # Adjust the x-axis limits as needed\n",
    "\n",
    "# Add legend\n",
    "ax.legend(title=\"Sample\")\n",
    "\n",
    "# Show the plot\n",
    "# plt.show()\n",
    "\n",
    "# Save the plot\n",
    "# fig.savefig('/gscratch/stergachislab/bmallo/large_home/plasmid_fiberseq/paper_figures/figure_1/supplemental/nontransfected_methylated_vs_unmethylated_read_length.svg')"
   ]
  },
  {
   "cell_type": "markdown",
   "metadata": {},
   "source": [
    "#### Get NPR data"
   ]
  },
  {
   "cell_type": "code",
   "execution_count": 11,
   "metadata": {},
   "outputs": [
    {
     "name": "stdout",
     "output_type": "stream",
     "text": [
      "read_count = 304738 mean = 0 mode = 0\n",
      "read_count = 228840 mean = 0 mode = 0\n",
      "read_count = 226245 mean = 0 mode = 0\n",
      "read_count = 305645 mean = 10 mode = 0\n",
      "read_count = 252765 mean = 11 mode = 0\n",
      "read_count = 160317 mean = 10 mode = 0\n"
     ]
    }
   ],
   "source": [
    "untransfected_all_reads_npr = analyze_bam(untransfected_all_reads, get_npr)\n",
    "untransfected_length_filtered_npr = analyze_bam(untransfected_length_filtered, get_npr)\n",
    "untransfected_length_m6a_filtered_npr = analyze_bam(untransfected_length_m6a_filtered, get_npr)\n",
    "\n",
    "transfected_all_reads_npr = analyze_bam(transfected_all_reads, get_npr)\n",
    "transfected_length_filtered_npr = analyze_bam(transfected_length_filtered, get_npr)\n",
    "transfected_length_m6a_filtered_npr = analyze_bam(transfected_length_m6a_filtered, get_npr)"
   ]
  },
  {
   "cell_type": "code",
   "execution_count": 4,
   "metadata": {},
   "outputs": [
    {
     "name": "stdout",
     "output_type": "stream",
     "text": [
      "4855324235524376\n",
      "['samtools', 'view', '-s', '1.4855324235524376', '-b', '/gscratch/stergachislab/bmallo/large_home/ft_data/plasmid_fiberseq/non_transfected_plasmid_controls/non_methylated_pEF-GFP/plasmid_bams_processed/pEFGFP/pEFGFP_no_m6a_filter_50_range_exact_reads.bam', '-o', '/tmp/temp_subsample_0.bam']\n",
      "read_count = 226289 mean = 6 mode = 0\n",
      "7424246401827144\n",
      "['samtools', 'view', '-s', '1.7424246401827144', '-b', '/gscratch/stergachislab/bmallo/large_home/ft_data/plasmid_fiberseq/non_transfected_plasmid_controls/methylated_pEF-GFP/plasmid_bams_processed/pEFGFP/all_pEF-GFP_reads.bam', '-o', '/tmp/temp_subsample_0.bam']\n",
      "read_count = 226206 mean = 0 mode = 0\n",
      "9886601992658626\n",
      "['samtools', 'view', '-s', '1.9886601992658626', '-b', '/gscratch/stergachislab/bmallo/large_home/ft_data/plasmid_fiberseq/non_transfected_plasmid_controls/methylated_pEF-GFP/plasmid_bams_processed/pEFGFP/pEFGFP_no_m6a_filter_50_range_exact_reads.bam', '-o', '/tmp/temp_subsample_0.bam']\n",
      "read_count = 226280 mean = 0 mode = 0\n",
      "0\n",
      "['samtools', 'view', '-s', '1.0', '-b', '/gscratch/stergachislab/bmallo/large_home/ft_data/plasmid_fiberseq/non_transfected_plasmid_controls/methylated_pEF-GFP/plasmid_bams_processed/pEFGFP/pEFGFP_50_range_exact_reads.bam', '-o', '/tmp/temp_subsample_0.bam']\n",
      "read_count = 226245 mean = 0 mode = 0\n",
      "28127750675080937\n",
      "['samtools', 'view', '-s', '1.28127750675080937', '-b', '/gscratch/stergachislab/bmallo/large_home/ft_data/plasmid_fiberseq/pEF_GFP_Gus/rep_3/plasmid_bams_processed/pEFGFP/all_pEF-GFP_reads.bam', '-o', '/tmp/temp_subsample_0.bam']\n",
      "read_count = 226625 mean = 10 mode = 0\n",
      "37335144162222106\n",
      "['samtools', 'view', '-s', '1.37335144162222106', '-b', '/gscratch/stergachislab/bmallo/large_home/ft_data/plasmid_fiberseq/pEF_GFP_Gus/rep_3/plasmid_bams_processed/pEFGFP/pEFGFP_no_m6a_filter_50_range_exact_read.bam', '-o', '/tmp/temp_subsample_0.bam']\n",
      "read_count = 226337 mean = 11 mode = 0\n",
      "5910899547757205\n",
      "['samtools', 'view', '-s', '1.5910899547757205', '-b', '/gscratch/stergachislab/bmallo/large_home/ft_data/plasmid_fiberseq/pEF_GFP_Gus/rep_3/plasmid_bams_processed/pEFGFP/pEFGFP_50_range_exact_aligned.bam', '-o', '/tmp/temp_subsample_0.bam']\n",
      "read_count = 226602 mean = 10 mode = 0\n"
     ]
    }
   ],
   "source": [
    "non_methylated_npr = analyze_subsampled_bam(non_methylated_bam, get_npr, num_reads=226245)\n",
    "raw_methylated_npr = analyze_subsampled_bam(raw_methylated_bam, get_npr, num_reads=226245)\n",
    "methylated_npr = analyze_subsampled_bam(methylated_bam, get_npr, num_reads=226245)\n",
    "methylated_npr_filtered = analyze_subsampled_bam(methylated_bam_m6a_filtered, get_npr, num_reads=226245)\n",
    "raw_pEF_GFP_Hek293_npr = analyze_subsampled_bam(raw_pEF_GFP_Hek293, get_npr, num_reads=226245)\n",
    "pEF_GFP_Hek293_npr = analyze_subsampled_bam(pEF_GFP_Hek293, get_npr, num_reads=226245)\n",
    "pEF_GFP_Hek293_npr_filtered = analyze_subsampled_bam(pEF_GFP_Hek293_bam_m6a_filtered, get_npr, num_reads=226245)"
   ]
  },
  {
   "cell_type": "code",
   "execution_count": 11,
   "metadata": {},
   "outputs": [
    {
     "data": {
      "text/plain": [
       "25.880618882445873"
      ]
     },
     "execution_count": 11,
     "metadata": {},
     "output_type": "execute_result"
    }
   ],
   "source": [
    "values = pEF_GFP_Hek293_npr_filtered[0]\n",
    "percent_less_equal_5 = (sum(1 for v in values if v > 16) / len(values)) * 100\n",
    "percent_less_equal_5"
   ]
  },
  {
   "cell_type": "code",
   "execution_count": 80,
   "metadata": {},
   "outputs": [],
   "source": [
    "non_methylated_npr[0] = non_methylated_npr[0][:226245]\n",
    "raw_methylated_npr[0] = raw_methylated_npr[0][:226245]\n",
    "methylated_npr[0] = methylated_npr[0][:226245]\n",
    "methylated_npr_filtered[0] = methylated_npr_filtered[0][:226245]\n",
    "raw_pEF_GFP_Hek293_npr[0] = raw_pEF_GFP_Hek293_npr[0][:226245]\n",
    "pEF_GFP_Hek293_npr[0] = pEF_GFP_Hek293_npr[0][:226245]\n",
    "pEF_GFP_Hek293_npr_filtered[0] = pEF_GFP_Hek293_npr_filtered[0][:226245]"
   ]
  },
  {
   "cell_type": "code",
   "execution_count": 81,
   "metadata": {},
   "outputs": [],
   "source": [
    "samples = ['non_methylated', 'raw_methylated', 'methylated', 'methylated_m6a_filtered', 'raw_pEF_GFP_Hek293','pEF_GFP_Hek293', 'pEF_GFP_Hek293_m6a_filtered']\n",
    "data_dicts = [non_methylated_npr, raw_methylated_npr, methylated_npr, methylated_npr_filtered, raw_pEF_GFP_Hek293_npr, pEF_GFP_Hek293_npr, pEF_GFP_Hek293_npr_filtered]\n",
    "\n",
    "# Initialize an empty list to store the data\n",
    "data = []\n",
    "\n",
    "# Loop through each sample and its corresponding dictionary\n",
    "for sample, data_dict in zip(samples, data_dicts):\n",
    "    for key, values in data_dict.items():\n",
    "        for value in values:\n",
    "            data.append({'Sample': sample, 'read_length': value})\n",
    "\n",
    "# Convert the list of dictionaries to a pandas dataframe\n",
    "npr_df = pd.DataFrame(data)"
   ]
  },
  {
   "cell_type": "code",
   "execution_count": 106,
   "metadata": {},
   "outputs": [
    {
     "data": {
      "image/png": "[encoded data removed]",
      "text/plain": [
       "<Figure size 1000x600 with 3 Axes>"
      ]
     },
     "metadata": {},
     "output_type": "display_data"
    }
   ],
   "source": [
    "from brokenaxes import brokenaxes\n",
    "\n",
    "# Filter the data for the two samples to plot\n",
    "samples_to_plot = ['non_methylated', 'raw_methylated']\n",
    "npr_df_filtered = npr_df[npr_df['Sample'].isin(samples_to_plot)]\n",
    "\n",
    "# Define the bins for the histogram\n",
    "bins = range(0, 31)\n",
    "\n",
    "# Create the broken y-axis\n",
    "fig = plt.figure(figsize=(10, 6))\n",
    "bax = brokenaxes(xlims=((0, 30),), ylims=((0, 70000), (200000, 230000)), hspace=0.1)\n",
    "\n",
    "# Plot the histograms for each sample\n",
    "for sample in samples_to_plot:\n",
    "    sample_data = npr_df_filtered[npr_df_filtered['Sample'] == sample]['read_length']\n",
    "    bax.hist(sample_data, bins=bins, alpha=0.5, label=sample, edgecolor='black')\n",
    "\n",
    "# Add labels and title\n",
    "bax.set_xlabel('read_length', labelpad=20)\n",
    "bax.set_ylabel('Read Count', labelpad=50)\n",
    "bax.set_title('All_non_transfected_reads vs All Transfected Reads')\n",
    "\n",
    "# Add legend\n",
    "bax.legend(title=\"Sample\")\n",
    "\n",
    "# Show the plot\n",
    "# plt.show()\n",
    "\n",
    "# Save the plot\n",
    "fig.savefig('/gscratch/stergachislab/bmallo/large_home/plasmid_fiberseq/paper_figures/figure_1/supplemental/non_transfected_methylated_vs_nonmethylated_npr.svg')"
   ]
  },
  {
   "cell_type": "code",
   "execution_count": 32,
   "metadata": {},
   "outputs": [],
   "source": [
    "# Create a list of sample names and corresponding dictionaries\n",
    "samples = ['Non-Methylated', 'Raw_Methylated', 'Methylated', 'Methylated (Filtered)', 'Raw_pEF-GFP_Hek293', 'pEF-GFP_Hek293', 'pEF-GFP_Hek293 (Filtered)']\n",
    "data_dicts = [non_methylated_m6a, raw_methylated_m6a, methylated_m6a, methylated_m6a_filtered, raw_pEF_GFP_Hek293_m6a, pEF_GFP_Hek293_m6a, pEF_GFP_Hek293_m6a_filtered]\n",
    "\n",
    "# Initialize an empty list to store the data\n",
    "data = []\n",
    "\n",
    "# Loop through each sample and its corresponding dictionary\n",
    "for sample, data_dict in zip(samples, data_dicts):\n",
    "    for key, values in data_dict.items():\n",
    "        for value in values:\n",
    "            data.append({'Sample': sample, 'Percent_m6A': value})\n",
    "\n",
    "# Convert the list of dictionaries to a pandas dataframe\n",
    "m6a_df = pd.DataFrame(data)\n",
    "\n",
    "# Display the dataframe\n",
    "# print(m6a_df[m6a_df['Sample'] == 'Raw_pEF-GFP_Hek293'])"
   ]
  },
  {
   "cell_type": "code",
   "execution_count": 42,
   "metadata": {},
   "outputs": [
    {
     "data": {
      "image/png": "[encoded data removed]",
      "text/plain": [
       "<Figure size 1000x600 with 1 Axes>"
      ]
     },
     "metadata": {},
     "output_type": "display_data"
    }
   ],
   "source": [
    "# Filter the data for the two samples to plot\n",
    "samples_to_plot = ['Methylated (Filtered)', 'pEF-GFP_Hek293 (Filtered)']\n",
    "m6a_df_filtered = m6a_df[m6a_df['Sample'].isin(samples_to_plot)]\n",
    "\n",
    "# Define the bins for the histogram\n",
    "bins = 100\n",
    "bin_range = (0, 1)  # Assuming Percent_m6A is between 0 and 1\n",
    "\n",
    "# Create the figure and axis\n",
    "fig, ax = plt.subplots(figsize=(10, 6))\n",
    "\n",
    "# Plot the histograms for each sample\n",
    "for sample in samples_to_plot:\n",
    "    sample_data = m6a_df_filtered[m6a_df_filtered['Sample'] == sample]['Percent_m6A']\n",
    "    ax.hist(sample_data, bins=bins, range=bin_range, alpha=0.5, label=sample, edgecolor='black')\n",
    "\n",
    "# Add labels and title\n",
    "ax.set_xlabel('Percent m6A')\n",
    "ax.set_ylabel('Read Count')\n",
    "ax.set_title('All_non_transfected_reads_methylated vs All Transfected Reads Methylated')\n",
    "\n",
    "# Add legend\n",
    "ax.legend(title=\"Sample\")\n",
    "\n",
    "# Change x-axis tick mark labels to be percentages\n",
    "ax.xaxis.set_major_formatter(FuncFormatter(lambda x, _: f'{x:.0%}'))\n",
    "\n",
    "# Show the plot\n",
    "# plt.show()\n",
    "\n",
    "# Save the plot\n",
    "fig.savefig('/gscratch/stergachislab/bmallo/large_home/plasmid_fiberseq/paper_figures/figure_1/supplemental/non_transfected_vs_transfected_no_length_m6a_filter.svg')"
   ]
  },
  {
   "cell_type": "markdown",
   "metadata": {},
   "source": [
    "### Plot NPR"
   ]
  },
  {
   "cell_type": "code",
   "execution_count": 5,
   "metadata": {},
   "outputs": [
    {
     "name": "stdout",
     "output_type": "stream",
     "text": [
      "4855324235524376\n",
      "['samtools', 'view', '-s', '1.4855324235524376', '-b', '/gscratch/stergachislab/bmallo/large_home/ft_data/plasmid_fiberseq/non_transfected_plasmid_controls/non_methylated_pEF-GFP/plasmid_bams_processed/pEFGFP/pEFGFP_no_m6a_filter_50_range_exact_reads.bam', '-o', '/tmp/temp_subsample_0.bam']\n",
      "read_count = 226289 mean = 6 mode = 0\n",
      "9886601992658626\n",
      "['samtools', 'view', '-s', '1.9886601992658626', '-b', '/gscratch/stergachislab/bmallo/large_home/ft_data/plasmid_fiberseq/non_transfected_plasmid_controls/methylated_pEF-GFP/plasmid_bams_processed/pEFGFP/pEFGFP_no_m6a_filter_50_range_exact_reads.bam', '-o', '/tmp/temp_subsample_0.bam']\n",
      "read_count = 226280 mean = 0 mode = 0\n",
      "0\n",
      "['samtools', 'view', '-s', '1.0', '-b', '/gscratch/stergachislab/bmallo/large_home/ft_data/plasmid_fiberseq/non_transfected_plasmid_controls/methylated_pEF-GFP/plasmid_bams_processed/pEFGFP/pEFGFP_50_range_exact_reads.bam', '-o', '/tmp/temp_subsample_0.bam']\n",
      "read_count = 226245 mean = 0 mode = 0\n",
      "37335144162222106\n",
      "['samtools', 'view', '-s', '1.37335144162222106', '-b', '/gscratch/stergachislab/bmallo/large_home/ft_data/plasmid_fiberseq/pEF_GFP_Gus/rep_3/plasmid_bams_processed/pEFGFP/pEFGFP_no_m6a_filter_50_range_exact_read.bam', '-o', '/tmp/temp_subsample_0.bam']\n",
      "read_count = 226337 mean = 11 mode = 0\n",
      "5910899547757205\n",
      "['samtools', 'view', '-s', '1.5910899547757205', '-b', '/gscratch/stergachislab/bmallo/large_home/ft_data/plasmid_fiberseq/pEF_GFP_Gus/rep_3/plasmid_bams_processed/pEFGFP/pEFGFP_50_range_exact_aligned.bam', '-o', '/tmp/temp_subsample_0.bam']\n",
      "read_count = 226602 mean = 10 mode = 0\n"
     ]
    }
   ],
   "source": [
    "non_methlyated_npr = analyze_subsampled_bam(non_methylated_bam, get_npr, num_reads=226245)\n",
    "methylated_npr = analyze_subsampled_bam(methylated_bam, get_npr, num_reads=226245)\n",
    "methylated_npr_filtered = analyze_subsampled_bam(methylated_bam_m6a_filtered, get_npr, num_reads=226245)\n",
    "pEF_GFP_Hek293_npr = analyze_subsampled_bam(pEF_GFP_Hek293, get_npr, num_reads=226245)\n",
    "pEF_GFP_Hek293_npr_filtered = analyze_subsampled_bam(pEF_GFP_Hek293_bam_m6a_filtered, get_npr, num_reads=226245)"
   ]
  },
  {
   "cell_type": "code",
   "execution_count": 6,
   "metadata": {},
   "outputs": [],
   "source": [
    "non_methlyated_npr[0] = non_methlyated_npr[0][:226245]\n",
    "methylated_npr[0] = methylated_npr[0][:226245]\n",
    "methylated_npr_filtered[0] = methylated_npr_filtered[0][:226245]\n",
    "pEF_GFP_Hek293_npr[0] = pEF_GFP_Hek293_npr[0][:226245]\n",
    "pEF_GFP_Hek293_npr_filtered[0] = pEF_GFP_Hek293_npr_filtered[0][:226245]"
   ]
  },
  {
   "cell_type": "code",
   "execution_count": 7,
   "metadata": {},
   "outputs": [
    {
     "data": {
      "application/vnd.microsoft.datawrangler.viewer.v0+json": {
       "columns": [
        {
         "name": "index",
         "rawType": "int64",
         "type": "integer"
        },
        {
         "name": "Sample",
         "rawType": "object",
         "type": "string"
        },
        {
         "name": "npr",
         "rawType": "int64",
         "type": "integer"
        }
       ],
       "conversionMethod": "pd.DataFrame",
       "ref": "4f46c2b8-6ece-47fb-b34f-61285af250dd",
       "rows": [
        [
         "0",
         "Methylated",
         "0"
        ],
        [
         "1",
         "Methylated",
         "0"
        ],
        [
         "2",
         "Methylated",
         "0"
        ],
        [
         "3",
         "Methylated",
         "0"
        ],
        [
         "4",
         "Methylated",
         "0"
        ],
        [
         "5",
         "Methylated",
         "0"
        ],
        [
         "6",
         "Methylated",
         "0"
        ],
        [
         "7",
         "Methylated",
         "1"
        ],
        [
         "8",
         "Methylated",
         "0"
        ],
        [
         "9",
         "Methylated",
         "0"
        ],
        [
         "10",
         "Methylated",
         "0"
        ],
        [
         "11",
         "Methylated",
         "0"
        ],
        [
         "12",
         "Methylated",
         "0"
        ],
        [
         "13",
         "Methylated",
         "0"
        ],
        [
         "14",
         "Methylated",
         "0"
        ],
        [
         "15",
         "Methylated",
         "0"
        ],
        [
         "16",
         "Methylated",
         "0"
        ],
        [
         "17",
         "Methylated",
         "0"
        ],
        [
         "18",
         "Methylated",
         "0"
        ],
        [
         "19",
         "Methylated",
         "0"
        ],
        [
         "20",
         "Methylated",
         "0"
        ],
        [
         "21",
         "Methylated",
         "0"
        ],
        [
         "22",
         "Methylated",
         "0"
        ],
        [
         "23",
         "Methylated",
         "0"
        ],
        [
         "24",
         "Methylated",
         "0"
        ],
        [
         "25",
         "Methylated",
         "0"
        ],
        [
         "26",
         "Methylated",
         "0"
        ],
        [
         "27",
         "Methylated",
         "0"
        ],
        [
         "28",
         "Methylated",
         "0"
        ],
        [
         "29",
         "Methylated",
         "0"
        ],
        [
         "30",
         "Methylated",
         "0"
        ],
        [
         "31",
         "Methylated",
         "0"
        ],
        [
         "32",
         "Methylated",
         "0"
        ],
        [
         "33",
         "Methylated",
         "0"
        ],
        [
         "34",
         "Methylated",
         "0"
        ],
        [
         "35",
         "Methylated",
         "0"
        ],
        [
         "36",
         "Methylated",
         "0"
        ],
        [
         "37",
         "Methylated",
         "0"
        ],
        [
         "38",
         "Methylated",
         "0"
        ],
        [
         "39",
         "Methylated",
         "0"
        ],
        [
         "40",
         "Methylated",
         "0"
        ],
        [
         "41",
         "Methylated",
         "0"
        ],
        [
         "42",
         "Methylated",
         "0"
        ],
        [
         "43",
         "Methylated",
         "0"
        ],
        [
         "44",
         "Methylated",
         "0"
        ],
        [
         "45",
         "Methylated",
         "0"
        ],
        [
         "46",
         "Methylated",
         "0"
        ],
        [
         "47",
         "Methylated",
         "0"
        ],
        [
         "48",
         "Methylated",
         "0"
        ],
        [
         "49",
         "Methylated",
         "0"
        ]
       ],
       "shape": {
        "columns": 2,
        "rows": 1131225
       }
      },
      "text/html": [
       "<div>\n",
       "<style scoped>\n",
       "    .dataframe tbody tr th:only-of-type {\n",
       "        vertical-align: middle;\n",
       "    }\n",
       "\n",
       "    .dataframe tbody tr th {\n",
       "        vertical-align: top;\n",
       "    }\n",
       "\n",
       "    .dataframe thead th {\n",
       "        text-align: right;\n",
       "    }\n",
       "</style>\n",
       "<table border=\"1\" class=\"dataframe\">\n",
       "  <thead>\n",
       "    <tr style=\"text-align: right;\">\n",
       "      <th></th>\n",
       "      <th>Sample</th>\n",
       "      <th>npr</th>\n",
       "    </tr>\n",
       "  </thead>\n",
       "  <tbody>\n",
       "    <tr>\n",
       "      <th>0</th>\n",
       "      <td>Methylated</td>\n",
       "      <td>0</td>\n",
       "    </tr>\n",
       "    <tr>\n",
       "      <th>1</th>\n",
       "      <td>Methylated</td>\n",
       "      <td>0</td>\n",
       "    </tr>\n",
       "    <tr>\n",
       "      <th>2</th>\n",
       "      <td>Methylated</td>\n",
       "      <td>0</td>\n",
       "    </tr>\n",
       "    <tr>\n",
       "      <th>3</th>\n",
       "      <td>Methylated</td>\n",
       "      <td>0</td>\n",
       "    </tr>\n",
       "    <tr>\n",
       "      <th>4</th>\n",
       "      <td>Methylated</td>\n",
       "      <td>0</td>\n",
       "    </tr>\n",
       "    <tr>\n",
       "      <th>...</th>\n",
       "      <td>...</td>\n",
       "      <td>...</td>\n",
       "    </tr>\n",
       "    <tr>\n",
       "      <th>1131220</th>\n",
       "      <td>pEF-GFP_Hek293 (Filtered)</td>\n",
       "      <td>2</td>\n",
       "    </tr>\n",
       "    <tr>\n",
       "      <th>1131221</th>\n",
       "      <td>pEF-GFP_Hek293 (Filtered)</td>\n",
       "      <td>10</td>\n",
       "    </tr>\n",
       "    <tr>\n",
       "      <th>1131222</th>\n",
       "      <td>pEF-GFP_Hek293 (Filtered)</td>\n",
       "      <td>17</td>\n",
       "    </tr>\n",
       "    <tr>\n",
       "      <th>1131223</th>\n",
       "      <td>pEF-GFP_Hek293 (Filtered)</td>\n",
       "      <td>8</td>\n",
       "    </tr>\n",
       "    <tr>\n",
       "      <th>1131224</th>\n",
       "      <td>pEF-GFP_Hek293 (Filtered)</td>\n",
       "      <td>20</td>\n",
       "    </tr>\n",
       "  </tbody>\n",
       "</table>\n",
       "<p>1131225 rows × 2 columns</p>\n",
       "</div>"
      ],
      "text/plain": [
       "                            Sample  npr\n",
       "0                       Methylated    0\n",
       "1                       Methylated    0\n",
       "2                       Methylated    0\n",
       "3                       Methylated    0\n",
       "4                       Methylated    0\n",
       "...                            ...  ...\n",
       "1131220  pEF-GFP_Hek293 (Filtered)    2\n",
       "1131221  pEF-GFP_Hek293 (Filtered)   10\n",
       "1131222  pEF-GFP_Hek293 (Filtered)   17\n",
       "1131223  pEF-GFP_Hek293 (Filtered)    8\n",
       "1131224  pEF-GFP_Hek293 (Filtered)   20\n",
       "\n",
       "[1131225 rows x 2 columns]"
      ]
     },
     "execution_count": 7,
     "metadata": {},
     "output_type": "execute_result"
    }
   ],
   "source": [
    "# Create a list of sample names and corresponding dictionaries\n",
    "samples = ['Methylated', 'Non-Methylated', 'Methylated (Filtered)', 'pEF-GFP_Hek293', 'pEF-GFP_Hek293 (Filtered)']\n",
    "data_dicts = [methylated_npr, non_methlyated_npr, methylated_npr_filtered, pEF_GFP_Hek293_npr, pEF_GFP_Hek293_npr_filtered]\n",
    "\n",
    "# Initialize an empty list to store the data\n",
    "data = []\n",
    "\n",
    "# Loop through each sample and its corresponding dictionary\n",
    "for sample, data_dict in zip(samples, data_dicts):\n",
    "    for key, values in data_dict.items():\n",
    "        for value in values:\n",
    "            data.append({'Sample': sample, 'npr': value})\n",
    "\n",
    "# Convert the list of dictionaries to a pandas dataframe\n",
    "npr_df = pd.DataFrame(data)\n",
    "\n",
    "# Display the dataframe\n",
    "npr_df"
   ]
  },
  {
   "cell_type": "code",
   "execution_count": 30,
   "metadata": {},
   "outputs": [
    {
     "name": "stderr",
     "output_type": "stream",
     "text": [
      "findfont: Font family 'Arial' not found.\n",
      "findfont: Font family 'Arial' not found.\n",
      "findfont: Font family 'Arial' not found.\n",
      "findfont: Font family 'Arial' not found.\n",
      "findfont: Font family 'Arial' not found.\n",
      "findfont: Font family 'Arial' not found.\n",
      "findfont: Font family 'Arial' not found.\n",
      "findfont: Font family 'Arial' not found.\n",
      "findfont: Font family 'Arial' not found.\n",
      "findfont: Font family 'Arial' not found.\n",
      "findfont: Font family 'Arial' not found.\n",
      "findfont: Font family 'Arial' not found.\n",
      "findfont: Font family 'Arial' not found.\n",
      "findfont: Font family 'Arial' not found.\n",
      "findfont: Font family 'Arial' not found.\n",
      "findfont: Font family 'Arial' not found.\n",
      "findfont: Font family 'Arial' not found.\n",
      "findfont: Font family 'Arial' not found.\n",
      "findfont: Font family 'Arial' not found.\n",
      "findfont: Font family 'Arial' not found.\n",
      "findfont: Font family 'Arial' not found.\n",
      "findfont: Font family 'Arial' not found.\n",
      "findfont: Font family 'Arial' not found.\n",
      "findfont: Font family 'Arial' not found.\n",
      "findfont: Font family 'Arial' not found.\n",
      "findfont: Font family 'Arial' not found.\n",
      "findfont: Font family 'Arial' not found.\n",
      "findfont: Font family 'Arial' not found.\n",
      "findfont: Font family 'Arial' not found.\n",
      "findfont: Font family 'Arial' not found.\n",
      "findfont: Font family 'Arial' not found.\n",
      "findfont: Font family 'Arial' not found.\n",
      "findfont: Font family 'Arial' not found.\n",
      "findfont: Font family 'Arial' not found.\n",
      "findfont: Font family 'Arial' not found.\n",
      "findfont: Font family 'Arial' not found.\n",
      "findfont: Font family 'Arial' not found.\n",
      "findfont: Font family 'Arial' not found.\n",
      "findfont: Font family 'Arial' not found.\n",
      "findfont: Font family 'Arial' not found.\n",
      "findfont: Font family 'Arial' not found.\n",
      "findfont: Font family 'Arial' not found.\n",
      "findfont: Font family 'Arial' not found.\n",
      "findfont: Font family 'Arial' not found.\n",
      "findfont: Font family 'Arial' not found.\n",
      "findfont: Font family 'Arial' not found.\n",
      "findfont: Font family 'Arial' not found.\n",
      "findfont: Font family 'Arial' not found.\n",
      "findfont: Font family 'Arial' not found.\n",
      "findfont: Font family 'Arial' not found.\n",
      "findfont: Font family 'Arial' not found.\n",
      "findfont: Font family 'Arial' not found.\n",
      "findfont: Font family 'Arial' not found.\n",
      "findfont: Font family 'Arial' not found.\n",
      "findfont: Font family 'Arial' not found.\n",
      "findfont: Font family 'Arial' not found.\n",
      "findfont: Font family 'Arial' not found.\n",
      "findfont: Font family 'Arial' not found.\n",
      "findfont: Font family 'Arial' not found.\n",
      "findfont: Font family 'Arial' not found.\n",
      "findfont: Font family 'Arial' not found.\n",
      "findfont: Font family 'Arial' not found.\n",
      "findfont: Font family 'Arial' not found.\n",
      "findfont: Font family 'Arial' not found.\n",
      "findfont: Font family 'Arial' not found.\n",
      "findfont: Font family 'Arial' not found.\n",
      "findfont: Font family 'Arial' not found.\n",
      "findfont: Font family 'Arial' not found.\n",
      "findfont: Font family 'Arial' not found.\n",
      "findfont: Font family 'Arial' not found.\n",
      "findfont: Font family 'Arial' not found.\n",
      "findfont: Font family 'Arial' not found.\n",
      "findfont: Font family 'Arial' not found.\n",
      "findfont: Font family 'Arial' not found.\n",
      "findfont: Font family 'Arial' not found.\n",
      "findfont: Font family 'Arial' not found.\n",
      "findfont: Font family 'Arial' not found.\n",
      "findfont: Font family 'Arial' not found.\n",
      "findfont: Font family 'Arial' not found.\n",
      "findfont: Font family 'Arial' not found.\n",
      "findfont: Font family 'Arial' not found.\n",
      "findfont: Font family 'Arial' not found.\n",
      "findfont: Font family 'Arial' not found.\n",
      "findfont: Font family 'Arial' not found.\n",
      "findfont: Font family 'Arial' not found.\n",
      "findfont: Font family 'Arial' not found.\n",
      "findfont: Font family 'Arial' not found.\n",
      "findfont: Font family 'Arial' not found.\n",
      "findfont: Font family 'Arial' not found.\n",
      "findfont: Font family 'Arial' not found.\n",
      "findfont: Font family 'Arial' not found.\n",
      "findfont: Font family 'Arial' not found.\n",
      "findfont: Font family 'Arial' not found.\n",
      "findfont: Font family 'Arial' not found.\n",
      "findfont: Font family 'Arial' not found.\n",
      "findfont: Font family 'Arial' not found.\n",
      "findfont: Font family 'Arial' not found.\n",
      "findfont: Font family 'Arial' not found.\n",
      "findfont: Font family 'Arial' not found.\n",
      "findfont: Font family 'Arial' not found.\n",
      "findfont: Font family 'Arial' not found.\n",
      "findfont: Font family 'Arial' not found.\n",
      "findfont: Font family 'Arial' not found.\n",
      "findfont: Font family 'Arial' not found.\n",
      "findfont: Font family 'Arial' not found.\n",
      "findfont: Font family 'Arial' not found.\n",
      "findfont: Font family 'Arial' not found.\n",
      "findfont: Font family 'Arial' not found.\n",
      "findfont: Font family 'Arial' not found.\n",
      "findfont: Font family 'Arial' not found.\n",
      "findfont: Font family 'Arial' not found.\n",
      "findfont: Font family 'Arial' not found.\n",
      "findfont: Font family 'Arial' not found.\n",
      "findfont: Font family 'Arial' not found.\n",
      "findfont: Font family 'Arial' not found.\n",
      "findfont: Font family 'Arial' not found.\n",
      "findfont: Font family 'Arial' not found.\n",
      "findfont: Font family 'Arial' not found.\n",
      "findfont: Font family 'Arial' not found.\n",
      "findfont: Font family 'Arial' not found.\n",
      "findfont: Font family 'Arial' not found.\n",
      "findfont: Font family 'Arial' not found.\n",
      "findfont: Font family 'Arial' not found.\n",
      "findfont: Font family 'Arial' not found.\n",
      "findfont: Font family 'Arial' not found.\n",
      "findfont: Font family 'Arial' not found.\n",
      "findfont: Font family 'Arial' not found.\n",
      "findfont: Font family 'Arial' not found.\n",
      "findfont: Font family 'Arial' not found.\n",
      "findfont: Font family 'Arial' not found.\n",
      "findfont: Font family 'Arial' not found.\n",
      "findfont: Font family 'Arial' not found.\n"
     ]
    },
    {
     "data": {
      "image/png": "[encoded data removed]",
      "text/plain": [
       "<Figure size 800x600 with 3 Axes>"
      ]
     },
     "metadata": {},
     "output_type": "display_data"
    }
   ],
   "source": [
    "import matplotlib.pyplot as plt\n",
    "\n",
    "# Define samples to plot\n",
    "samples_to_plot = ['Methylated (Filtered)', 'pEF-GFP_Hek293 (Filtered)']\n",
    "colors = {'Methylated (Filtered)': '#0d8eca', 'pEF-GFP_Hek293 (Filtered)': '#f57f20'}\n",
    "\n",
    "# Filter the DataFrame\n",
    "filtered_df = npr_df[npr_df[\"Sample\"].isin(samples_to_plot)]\n",
    "\n",
    "# Create the broken y-axis\n",
    "fig = plt.figure(figsize=(8, 6))\n",
    "bax = brokenaxes(xlims=((0, 30),), ylims=((0, 45000), (210000, 230000)), hspace=0.1)\n",
    "\n",
    "# Define the bins for the histogram\n",
    "bins = range(0, 31)\n",
    "\n",
    "# Plot data for each sample with the same bins\n",
    "for sample in samples_to_plot:\n",
    "\tsample_data = filtered_df[filtered_df[\"Sample\"] == sample][\"npr\"]\n",
    "\tbax.hist(sample_data, bins=bins, alpha=0.5, label=sample, edgecolor='black', color=colors[sample])\n",
    "\n",
    "# Formatting\n",
    "bax.legend(title=\"Samples\")\n",
    "bax.set_xlabel(\"Nucleosomes per Read\", labelpad=25)  # Increase labelpad for x-axis\n",
    "bax.set_ylabel(\"Plasmid Read Count\", labelpad=55)    # Increase labelpad for y-axis\n",
    "\n",
    "# Set tick mark labels to Arial Bold 5.7pt font\n",
    "for ax in bax.axs:\n",
    "\tax.tick_params(axis='both', which='major', labelsize=5.7, labelcolor='black')\n",
    "\tfor label in ax.get_xticklabels() + ax.get_yticklabels():\n",
    "\t\tlabel.set_fontname('Arial')\n",
    "\t\tlabel.set_fontweight('bold')\n",
    "\n",
    "plt.savefig('/gscratch/stergachislab/bmallo/large_home/plasmid_fiberseq/paper_figures/figure_1/figure_1C_broekenaxes.pdf', format='pdf')\n"
   ]
  },
  {
   "cell_type": "code",
   "execution_count": 90,
   "metadata": {},
   "outputs": [
    {
     "data": {
      "text/plain": [
       "<Figure size 640x480 with 0 Axes>"
      ]
     },
     "metadata": {},
     "output_type": "display_data"
    }
   ],
   "source": [
    "plt.savefig('/gscratch/stergachislab/bmallo/large_home/plasmid_fiberseq/paper_figures/figure_1/figure_1C_broekenaxes.svg', format='svg')"
   ]
  }
 ],
 "metadata": {
  "kernelspec": {
   "display_name": "general",
   "language": "python",
   "name": "python3"
  },
  "language_info": {
   "codemirror_mode": {
    "name": "ipython",
    "version": 3
   },
   "file_extension": ".py",
   "mimetype": "text/x-python",
   "name": "python",
   "nbconvert_exporter": "python",
   "pygments_lexer": "ipython3",
   "version": "3.12.4"
  },
  "orig_nbformat": 4
 },
 "nbformat": 4,
 "nbformat_minor": 2
}
